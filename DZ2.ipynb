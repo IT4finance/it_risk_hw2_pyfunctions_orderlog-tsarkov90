{
 "cells": [
  {
   "cell_type": "markdown",
   "metadata": {},
   "source": [
    "# Привет :)\n",
    "## Это моя вторая дз, здесь будет больше комментариев.\n",
    "\n",
    "Надеюсь, все будет понятно."
   ]
  },
  {
   "cell_type": "code",
   "execution_count": 3,
   "metadata": {},
   "outputs": [
    {
     "name": "stdout",
     "output_type": "stream",
     "text": [
      "Requirement already satisfied: psycopg2-binary in ./opt/anaconda3/lib/python3.7/site-packages (2.9.2)\n",
      "Note: you may need to restart the kernel to use updated packages.\n"
     ]
    }
   ],
   "source": [
    "pip install psycopg2-binary"
   ]
  },
  {
   "cell_type": "markdown",
   "metadata": {},
   "source": [
    "Инсталяция psycopg для работы с постгрес. "
   ]
  },
  {
   "cell_type": "code",
   "execution_count": 17,
   "metadata": {},
   "outputs": [],
   "source": [
    "#импортирование нужных библиотек\n",
    "import psycopg2 #чтобы соединиться с постгрес\n",
    "import pandas as pd #чтобы отображались датафреймы и можно было читать код\n",
    "import datetime as dt #работа со временем"
   ]
  },
  {
   "cell_type": "code",
   "execution_count": 6,
   "metadata": {},
   "outputs": [],
   "source": [
    "#ВАЖНЫЙ ШАГ\n",
    "#ЗДЕСЬ НАДО ПОМЕНЯТЬ ПАРАМЕТРЫ НА СВОИ, К ПРИМЕРУ, У МЕНЯ НЕТ ПАРОЛЯ\n",
    "#подключение к постгрес (данные также надо загрузить в shell)\n",
    "conn = psycopg2.connect(user = 'postgres', database = 'postgres', host = 'localhost', port = '5432')"
   ]
  },
  {
   "cell_type": "code",
   "execution_count": 7,
   "metadata": {},
   "outputs": [
    {
     "data": {
      "text/html": [
       "<div>\n",
       "<style scoped>\n",
       "    .dataframe tbody tr th:only-of-type {\n",
       "        vertical-align: middle;\n",
       "    }\n",
       "\n",
       "    .dataframe tbody tr th {\n",
       "        vertical-align: top;\n",
       "    }\n",
       "\n",
       "    .dataframe thead th {\n",
       "        text-align: right;\n",
       "    }\n",
       "</style>\n",
       "<table border=\"1\" class=\"dataframe\">\n",
       "  <thead>\n",
       "    <tr style=\"text-align: right;\">\n",
       "      <th></th>\n",
       "      <th>currency</th>\n",
       "      <th>date_trading</th>\n",
       "      <th>exch_me</th>\n",
       "      <th>bid_price</th>\n",
       "      <th>ask_price</th>\n",
       "      <th>opening_price</th>\n",
       "      <th>indicative_price</th>\n",
       "      <th>indicative_price_type</th>\n",
       "      <th>turnover</th>\n",
       "      <th>number_of_trades</th>\n",
       "      <th>coupon</th>\n",
       "      <th>ytm_ind</th>\n",
       "      <th>coupon_accum</th>\n",
       "      <th>option_date</th>\n",
       "      <th>duration_option</th>\n",
       "      <th>trade_regime</th>\n",
       "      <th>isin</th>\n",
       "      <th>g_spread</th>\n",
       "      <th>state_bank</th>\n",
       "      <th>issuer</th>\n",
       "      <th>days_to_maturity</th>\n",
       "      <th>total_days_to_maturity</th>\n",
       "      <th>days_to_call</th>\n",
       "      <th>callable</th>\n",
       "      <th>g_spread_interpolated</th>\n",
       "      <th>rf_interpolated</th>\n",
       "    </tr>\n",
       "  </thead>\n",
       "  <tbody>\n",
       "    <tr>\n",
       "      <th>0</th>\n",
       "      <td>RUB</td>\n",
       "      <td>26.07.2016 0:00</td>\n",
       "      <td>Московская Биржа</td>\n",
       "      <td>None</td>\n",
       "      <td>None</td>\n",
       "      <td>None</td>\n",
       "      <td>99.87</td>\n",
       "      <td>Market</td>\n",
       "      <td>None</td>\n",
       "      <td>None</td>\n",
       "      <td>0.115</td>\n",
       "      <td>0.7440</td>\n",
       "      <td>57.03</td>\n",
       "      <td>None</td>\n",
       "      <td>None</td>\n",
       "      <td>Осн. режим: Облигации - Первый уровень</td>\n",
       "      <td>RU000A0JRNJ3</td>\n",
       "      <td>6421.5698</td>\n",
       "      <td>False</td>\n",
       "      <td>АБСОЛЮТ БАНК</td>\n",
       "      <td>1</td>\n",
       "      <td>569</td>\n",
       "      <td>None</td>\n",
       "      <td>False</td>\n",
       "      <td>0.643114</td>\n",
       "      <td>0.100886</td>\n",
       "    </tr>\n",
       "    <tr>\n",
       "      <th>1</th>\n",
       "      <td>RUB</td>\n",
       "      <td>25.07.2016 0:00</td>\n",
       "      <td>Московская Биржа</td>\n",
       "      <td>None</td>\n",
       "      <td>None</td>\n",
       "      <td>None</td>\n",
       "      <td>99.87</td>\n",
       "      <td>Market</td>\n",
       "      <td>None</td>\n",
       "      <td>None</td>\n",
       "      <td>0.115</td>\n",
       "      <td>0.3957</td>\n",
       "      <td>56.71</td>\n",
       "      <td>None</td>\n",
       "      <td>None</td>\n",
       "      <td>Осн. режим: Облигации - Первый уровень</td>\n",
       "      <td>RU000A0JRNJ3</td>\n",
       "      <td>2933.5291</td>\n",
       "      <td>False</td>\n",
       "      <td>АБСОЛЮТ БАНК</td>\n",
       "      <td>2</td>\n",
       "      <td>569</td>\n",
       "      <td>None</td>\n",
       "      <td>False</td>\n",
       "      <td>0.294529</td>\n",
       "      <td>0.101171</td>\n",
       "    </tr>\n",
       "    <tr>\n",
       "      <th>2</th>\n",
       "      <td>RUB</td>\n",
       "      <td>22.07.2016 0:00</td>\n",
       "      <td>Московская Биржа</td>\n",
       "      <td>None</td>\n",
       "      <td>None</td>\n",
       "      <td>None</td>\n",
       "      <td>99.87</td>\n",
       "      <td>Market</td>\n",
       "      <td>None</td>\n",
       "      <td>None</td>\n",
       "      <td>0.115</td>\n",
       "      <td>0.2195</td>\n",
       "      <td>55.77</td>\n",
       "      <td>None</td>\n",
       "      <td>None</td>\n",
       "      <td>Осн. режим: Облигации - Первый уровень</td>\n",
       "      <td>RU000A0JRNJ3</td>\n",
       "      <td>1169.9229</td>\n",
       "      <td>False</td>\n",
       "      <td>АБСОЛЮТ БАНК</td>\n",
       "      <td>5</td>\n",
       "      <td>569</td>\n",
       "      <td>None</td>\n",
       "      <td>False</td>\n",
       "      <td>0.118178</td>\n",
       "      <td>0.101322</td>\n",
       "    </tr>\n",
       "    <tr>\n",
       "      <th>3</th>\n",
       "      <td>RUB</td>\n",
       "      <td>21.07.2016 0:00</td>\n",
       "      <td>Московская Биржа</td>\n",
       "      <td>None</td>\n",
       "      <td>None</td>\n",
       "      <td>None</td>\n",
       "      <td>99.87</td>\n",
       "      <td>Market</td>\n",
       "      <td>None</td>\n",
       "      <td>None</td>\n",
       "      <td>0.115</td>\n",
       "      <td>0.2018</td>\n",
       "      <td>55.45</td>\n",
       "      <td>None</td>\n",
       "      <td>None</td>\n",
       "      <td>Осн. режим: Облигации - Первый уровень</td>\n",
       "      <td>RU000A0JRNJ3</td>\n",
       "      <td>999.5908</td>\n",
       "      <td>False</td>\n",
       "      <td>АБСОЛЮТ БАНК</td>\n",
       "      <td>6</td>\n",
       "      <td>569</td>\n",
       "      <td>None</td>\n",
       "      <td>False</td>\n",
       "      <td>0.100693</td>\n",
       "      <td>0.101107</td>\n",
       "    </tr>\n",
       "    <tr>\n",
       "      <th>4</th>\n",
       "      <td>RUB</td>\n",
       "      <td>20.07.2016 0:00</td>\n",
       "      <td>Московская Биржа</td>\n",
       "      <td>None</td>\n",
       "      <td>None</td>\n",
       "      <td>None</td>\n",
       "      <td>99.87</td>\n",
       "      <td>Market</td>\n",
       "      <td>None</td>\n",
       "      <td>None</td>\n",
       "      <td>0.115</td>\n",
       "      <td>0.1887</td>\n",
       "      <td>55.14</td>\n",
       "      <td>None</td>\n",
       "      <td>None</td>\n",
       "      <td>Осн. режим: Облигации - Первый уровень</td>\n",
       "      <td>RU000A0JRNJ3</td>\n",
       "      <td>853.4331</td>\n",
       "      <td>False</td>\n",
       "      <td>АБСОЛЮТ БАНК</td>\n",
       "      <td>7</td>\n",
       "      <td>569</td>\n",
       "      <td>None</td>\n",
       "      <td>False</td>\n",
       "      <td>0.087609</td>\n",
       "      <td>0.101091</td>\n",
       "    </tr>\n",
       "  </tbody>\n",
       "</table>\n",
       "</div>"
      ],
      "text/plain": [
       "  currency     date_trading           exch_me bid_price ask_price  \\\n",
       "0     RUB   26.07.2016 0:00  Московская Биржа      None      None   \n",
       "1     RUB   25.07.2016 0:00  Московская Биржа      None      None   \n",
       "2     RUB   22.07.2016 0:00  Московская Биржа      None      None   \n",
       "3     RUB   21.07.2016 0:00  Московская Биржа      None      None   \n",
       "4     RUB   20.07.2016 0:00  Московская Биржа      None      None   \n",
       "\n",
       "  opening_price  indicative_price indicative_price_type turnover  \\\n",
       "0          None             99.87                Market     None   \n",
       "1          None             99.87                Market     None   \n",
       "2          None             99.87                Market     None   \n",
       "3          None             99.87                Market     None   \n",
       "4          None             99.87                Market     None   \n",
       "\n",
       "  number_of_trades  coupon  ytm_ind  coupon_accum option_date duration_option  \\\n",
       "0             None   0.115   0.7440         57.03        None            None   \n",
       "1             None   0.115   0.3957         56.71        None            None   \n",
       "2             None   0.115   0.2195         55.77        None            None   \n",
       "3             None   0.115   0.2018         55.45        None            None   \n",
       "4             None   0.115   0.1887         55.14        None            None   \n",
       "\n",
       "                             trade_regime          isin   g_spread  \\\n",
       "0  Осн. режим: Облигации - Первый уровень  RU000A0JRNJ3  6421.5698   \n",
       "1  Осн. режим: Облигации - Первый уровень  RU000A0JRNJ3  2933.5291   \n",
       "2  Осн. режим: Облигации - Первый уровень  RU000A0JRNJ3  1169.9229   \n",
       "3  Осн. режим: Облигации - Первый уровень  RU000A0JRNJ3   999.5908   \n",
       "4  Осн. режим: Облигации - Первый уровень  RU000A0JRNJ3   853.4331   \n",
       "\n",
       "   state_bank        issuer  days_to_maturity  total_days_to_maturity  \\\n",
       "0       False  АБСОЛЮТ БАНК                 1                     569   \n",
       "1       False  АБСОЛЮТ БАНК                 2                     569   \n",
       "2       False  АБСОЛЮТ БАНК                 5                     569   \n",
       "3       False  АБСОЛЮТ БАНК                 6                     569   \n",
       "4       False  АБСОЛЮТ БАНК                 7                     569   \n",
       "\n",
       "  days_to_call  callable  g_spread_interpolated  rf_interpolated  \n",
       "0         None     False               0.643114         0.100886  \n",
       "1         None     False               0.294529         0.101171  \n",
       "2         None     False               0.118178         0.101322  \n",
       "3         None     False               0.100693         0.101107  \n",
       "4         None     False               0.087609         0.101091  "
      ]
     },
     "execution_count": 7,
     "metadata": {},
     "output_type": "execute_result"
    }
   ],
   "source": [
    "#проверка базы данных\n",
    "b_a = pd.read_sql_query(\"SELECT * FROM bond_quotes LIMIT 5\" , conn)\n",
    "pd.set_option('display.max_columns', None) #чтобы можно было посмотреть все колонки\n",
    "b_a"
   ]
  },
  {
   "cell_type": "markdown",
   "metadata": {},
   "source": [
    "## ЗАДАНИЕ 2.b\n",
    "i.\tDataFrame эмпирических спрэдов (S) для заданного момента времени (1 балл):\n",
    "1.\tИндекс строк – минимум из времени до погашения (Days_to_maturity) и времени до исполнения опциона (Days_to_call), если последний есть.\n",
    "2.\tВ поле таблицы – значения кредитного спрэда (G_spread_interpolated)."
   ]
  },
  {
   "cell_type": "code",
   "execution_count": 13,
   "metadata": {},
   "outputs": [
    {
     "data": {
      "text/html": [
       "<div>\n",
       "<style scoped>\n",
       "    .dataframe tbody tr th:only-of-type {\n",
       "        vertical-align: middle;\n",
       "    }\n",
       "\n",
       "    .dataframe tbody tr th {\n",
       "        vertical-align: top;\n",
       "    }\n",
       "\n",
       "    .dataframe thead th {\n",
       "        text-align: right;\n",
       "    }\n",
       "</style>\n",
       "<table border=\"1\" class=\"dataframe\">\n",
       "  <thead>\n",
       "    <tr style=\"text-align: right;\">\n",
       "      <th></th>\n",
       "      <th>g_spread_interpolated</th>\n",
       "    </tr>\n",
       "    <tr>\n",
       "      <th>duration</th>\n",
       "      <th></th>\n",
       "    </tr>\n",
       "  </thead>\n",
       "  <tbody>\n",
       "    <tr>\n",
       "      <th>405</th>\n",
       "      <td>-0.074600</td>\n",
       "    </tr>\n",
       "    <tr>\n",
       "      <th>384</th>\n",
       "      <td>-0.065207</td>\n",
       "    </tr>\n",
       "    <tr>\n",
       "      <th>11</th>\n",
       "      <td>0.048757</td>\n",
       "    </tr>\n",
       "  </tbody>\n",
       "</table>\n",
       "</div>"
      ],
      "text/plain": [
       "          g_spread_interpolated\n",
       "duration                       \n",
       "405                   -0.074600\n",
       "384                   -0.065207\n",
       "11                     0.048757"
      ]
     },
     "execution_count": 13,
     "metadata": {},
     "output_type": "execute_result"
    }
   ],
   "source": [
    "#проверка \n",
    "#для момента ставим две даты одинаковыми \n",
    "issuer = 'Сбер%' #эмитент, можно писать неполное название и заканчивать %, можно полное\n",
    "exch_me = 'Франкфурт%' #источник информации, тоже можно писать неполное название\n",
    "date1 = '20.01.2016' #ОБЯЗАТЕЛЬНО ФОРМАТ ДД.ММ.ГГГГ\n",
    "date2 = '20.01.2016' #ОБЯЗАТЕЛЬНО ФОРМАТ ДД.ММ.ГГГГ\n",
    "\n",
    "bid_ask_conn = open('test.sql', 'r', encoding = 'UTF-8')\n",
    "bid_ask=(bid_ask_conn.read()).format(issuer = issuer, exch_me = exch_me, date_first_ddmmyyyy = date1, date_latter_ddmmyyyy = date2)\n",
    "g_issuer = pd.read_sql_query(bid_ask, conn, index_col = 'duration') #установка индексной колонки\n",
    "g_issuer"
   ]
  },
  {
   "cell_type": "markdown",
   "metadata": {},
   "source": [
    "## ЗАДАНИЕ 2.b.ii\n",
    "\tПо данным таблицы (S) и заданного (h) вычисляет интерполированный спрэд (s_int) (2 балла):\n",
    "формула в задании и в sql\n",
    "смысл — средневзвешенная доходность облигации на определенный период в годах (h)\n",
    "\n",
    "то есть какая была бы доходность если бы прямо сейчас сделали облигацию с таким-то сроком погашения"
   ]
  },
  {
   "cell_type": "code",
   "execution_count": 15,
   "metadata": {},
   "outputs": [
    {
     "data": {
      "text/html": [
       "<div>\n",
       "<style scoped>\n",
       "    .dataframe tbody tr th:only-of-type {\n",
       "        vertical-align: middle;\n",
       "    }\n",
       "\n",
       "    .dataframe tbody tr th {\n",
       "        vertical-align: top;\n",
       "    }\n",
       "\n",
       "    .dataframe thead th {\n",
       "        text-align: right;\n",
       "    }\n",
       "</style>\n",
       "<table border=\"1\" class=\"dataframe\">\n",
       "  <thead>\n",
       "    <tr style=\"text-align: right;\">\n",
       "      <th></th>\n",
       "    </tr>\n",
       "    <tr>\n",
       "      <th>spread_int</th>\n",
       "    </tr>\n",
       "  </thead>\n",
       "  <tbody>\n",
       "    <tr>\n",
       "      <th>-0.062076</th>\n",
       "    </tr>\n",
       "  </tbody>\n",
       "</table>\n",
       "</div>"
      ],
      "text/plain": [
       "Empty DataFrame\n",
       "Columns: []\n",
       "Index: [-0.06207648384843381]"
      ]
     },
     "execution_count": 15,
     "metadata": {},
     "output_type": "execute_result"
    }
   ],
   "source": [
    "issuer = 'Сбер%' #эмитент, можно писать неполное название и заканчивать %, можно полное\n",
    "exch_me = 'Франкфурт%' #источник информации, тоже можно писать неполное название\n",
    "date1 = '20.01.2016' #ОБЯЗАТЕЛЬНО ФОРМАТ ДД.ММ.ГГГГ\n",
    "date2 = '20.01.2016' #ОБЯЗАТЕЛЬНО ФОРМАТ ДД.ММ.ГГГГ\n",
    "h = '1' #СРОЧНОСТЬ СПРЕДА (в кавычках), НЕЛЬЗЯ ИМЕТЬ СРОЧНОСТЬ МЕНЬШЕ ГОДА\n",
    "\n",
    "bid_ask_conn = open('pls.sql', 'r', encoding = 'UTF-8')\n",
    "bid_ask=(bid_ask_conn.read()).format(issuer = issuer, exch_me = exch_me, date_first_ddmmyyyy = date1, date_latter_ddmmyyyy = date2, h = h)\n",
    "g_spreadd = pd.read_sql_query(bid_ask, conn, index_col = 'spread_int') #установка индекса\n",
    "g_spreadd"
   ]
  },
  {
   "cell_type": "markdown",
   "metadata": {},
   "source": [
    "## ЗАДАНИЕ 2.b.iii ВЫПОЛНЕНО В МОДУЛЕ (ТАМ ИСПОЛЬЗУЮТСЯ ДВЕ ФУНКЦИИ)"
   ]
  },
  {
   "cell_type": "code",
   "execution_count": 24,
   "metadata": {},
   "outputs": [],
   "source": [
    "#мой модуль — можно посмотреть в файлах с расширением .py\n",
    "#комментарии внутри модуля\n",
    "#чтобы работал — в ту же папку, что и эта тетрадка ipynb\n",
    "import mylib as m"
   ]
  },
  {
   "cell_type": "code",
   "execution_count": 25,
   "metadata": {},
   "outputs": [
    {
     "data": {
      "text/plain": [
       "<module 'mylib' from '/Users/alexandrdemakov/mylib.py'>"
      ]
     },
     "execution_count": 25,
     "metadata": {},
     "output_type": "execute_result"
    }
   ],
   "source": [
    "#если что-то надо изменить и обновить библиотеку\n",
    "import importlib\n",
    "importlib.reload(m)"
   ]
  },
  {
   "cell_type": "code",
   "execution_count": 26,
   "metadata": {},
   "outputs": [
    {
     "data": {
      "text/html": [
       "<div>\n",
       "<style scoped>\n",
       "    .dataframe tbody tr th:only-of-type {\n",
       "        vertical-align: middle;\n",
       "    }\n",
       "\n",
       "    .dataframe tbody tr th {\n",
       "        vertical-align: top;\n",
       "    }\n",
       "\n",
       "    .dataframe thead th {\n",
       "        text-align: right;\n",
       "    }\n",
       "</style>\n",
       "<table border=\"1\" class=\"dataframe\">\n",
       "  <thead>\n",
       "    <tr style=\"text-align: right;\">\n",
       "      <th></th>\n",
       "      <th>g_spread_interpolated</th>\n",
       "    </tr>\n",
       "    <tr>\n",
       "      <th>duration</th>\n",
       "      <th></th>\n",
       "    </tr>\n",
       "  </thead>\n",
       "  <tbody>\n",
       "    <tr>\n",
       "      <th>405</th>\n",
       "      <td>-0.074600</td>\n",
       "    </tr>\n",
       "    <tr>\n",
       "      <th>384</th>\n",
       "      <td>-0.065207</td>\n",
       "    </tr>\n",
       "    <tr>\n",
       "      <th>11</th>\n",
       "      <td>0.048757</td>\n",
       "    </tr>\n",
       "  </tbody>\n",
       "</table>\n",
       "</div>"
      ],
      "text/plain": [
       "          g_spread_interpolated\n",
       "duration                       \n",
       "405                   -0.074600\n",
       "384                   -0.065207\n",
       "11                     0.048757"
      ]
     },
     "execution_count": 26,
     "metadata": {},
     "output_type": "execute_result"
    }
   ],
   "source": [
    "#1 задание, переменные описаны в первой части\n",
    "m.spread_momentum(conn, 'Сбер%', 'Франкфурт%', '20.01.2016', '20.01.2016')"
   ]
  },
  {
   "cell_type": "code",
   "execution_count": 27,
   "metadata": {},
   "outputs": [
    {
     "data": {
      "text/html": [
       "<div>\n",
       "<style scoped>\n",
       "    .dataframe tbody tr th:only-of-type {\n",
       "        vertical-align: middle;\n",
       "    }\n",
       "\n",
       "    .dataframe tbody tr th {\n",
       "        vertical-align: top;\n",
       "    }\n",
       "\n",
       "    .dataframe thead th {\n",
       "        text-align: right;\n",
       "    }\n",
       "</style>\n",
       "<table border=\"1\" class=\"dataframe\">\n",
       "  <thead>\n",
       "    <tr style=\"text-align: right;\">\n",
       "      <th></th>\n",
       "    </tr>\n",
       "    <tr>\n",
       "      <th>spread_int</th>\n",
       "    </tr>\n",
       "  </thead>\n",
       "  <tbody>\n",
       "    <tr>\n",
       "      <th>-0.062076</th>\n",
       "    </tr>\n",
       "  </tbody>\n",
       "</table>\n",
       "</div>"
      ],
      "text/plain": [
       "Empty DataFrame\n",
       "Columns: []\n",
       "Index: [-0.06207648384843381]"
      ]
     },
     "execution_count": 27,
     "metadata": {},
     "output_type": "execute_result"
    }
   ],
   "source": [
    "#2 задание, переменные описаны в первой части\n",
    "m.s_int(conn, 'Сбер%', 'Франкфурт%', '20.01.2016', '20.01.2016','1')"
   ]
  },
  {
   "cell_type": "markdown",
   "metadata": {},
   "source": [
    "## ЗАДАНИЕ 2.b.iii \n",
    "iii.\tSeries (S_int) – временной ряд спрэдов срочности (h) на временном интервале (date_1, date_2) c частотой (f) (3 балла).\n",
    "1.\tИндексы – даты наблюдений\n",
    "2.\tЗначения – значения спрэдов"
   ]
  },
  {
   "cell_type": "code",
   "execution_count": 29,
   "metadata": {},
   "outputs": [
    {
     "data": {
      "text/html": [
       "<div>\n",
       "<style scoped>\n",
       "    .dataframe tbody tr th:only-of-type {\n",
       "        vertical-align: middle;\n",
       "    }\n",
       "\n",
       "    .dataframe tbody tr th {\n",
       "        vertical-align: top;\n",
       "    }\n",
       "\n",
       "    .dataframe thead th {\n",
       "        text-align: right;\n",
       "    }\n",
       "</style>\n",
       "<table border=\"1\" class=\"dataframe\">\n",
       "  <thead>\n",
       "    <tr style=\"text-align: right;\">\n",
       "      <th></th>\n",
       "      <th>spread</th>\n",
       "    </tr>\n",
       "    <tr>\n",
       "      <th>date</th>\n",
       "      <th></th>\n",
       "    </tr>\n",
       "  </thead>\n",
       "  <tbody>\n",
       "    <tr>\n",
       "      <th>20.01.2014</th>\n",
       "      <td>[-0.030446625072591105]</td>\n",
       "    </tr>\n",
       "    <tr>\n",
       "      <th>20.04.2014</th>\n",
       "      <td>[-0.030446625072591105]</td>\n",
       "    </tr>\n",
       "    <tr>\n",
       "      <th>19.07.2014</th>\n",
       "      <td>[-0.030446625072591105]</td>\n",
       "    </tr>\n",
       "    <tr>\n",
       "      <th>17.10.2014</th>\n",
       "      <td>[-0.030446625072591105]</td>\n",
       "    </tr>\n",
       "    <tr>\n",
       "      <th>15.01.2015</th>\n",
       "      <td>[-0.030140599620247645]</td>\n",
       "    </tr>\n",
       "    <tr>\n",
       "      <th>15.04.2015</th>\n",
       "      <td>[-0.010006676941197746]</td>\n",
       "    </tr>\n",
       "    <tr>\n",
       "      <th>14.07.2015</th>\n",
       "      <td>[-0.00337511915980914]</td>\n",
       "    </tr>\n",
       "    <tr>\n",
       "      <th>12.10.2015</th>\n",
       "      <td>[-0.0256497227546701]</td>\n",
       "    </tr>\n",
       "    <tr>\n",
       "      <th>10.01.2016</th>\n",
       "      <td>[-0.064205101705369]</td>\n",
       "    </tr>\n",
       "  </tbody>\n",
       "</table>\n",
       "</div>"
      ],
      "text/plain": [
       "                             spread\n",
       "date                               \n",
       "20.01.2014  [-0.030446625072591105]\n",
       "20.04.2014  [-0.030446625072591105]\n",
       "19.07.2014  [-0.030446625072591105]\n",
       "17.10.2014  [-0.030446625072591105]\n",
       "15.01.2015  [-0.030140599620247645]\n",
       "15.04.2015  [-0.010006676941197746]\n",
       "14.07.2015   [-0.00337511915980914]\n",
       "12.10.2015    [-0.0256497227546701]\n",
       "10.01.2016     [-0.064205101705369]"
      ]
     },
     "execution_count": 29,
     "metadata": {},
     "output_type": "execute_result"
    }
   ],
   "source": [
    "#3 задание\n",
    "#НОВАЯ ПЕРЕМЕННАЯ f — ЧАСТОТА В МЕСЯЦАХ, ПИШЕТСЯ !!!ТОЛЬКО БЕЗ КАВЫЧЕК!!!\n",
    "m.parsed_sp(conn, 'Сбер%', 'Франкфурт%', '20.01.2014', '20.01.2016','1',3)"
   ]
  },
  {
   "cell_type": "markdown",
   "metadata": {},
   "source": [
    "## В SQL и mylib еще интереснее, удачи \n",
    "# Пока :)\n"
   ]
  },
  {
   "cell_type": "code",
   "execution_count": null,
   "metadata": {},
   "outputs": [],
   "source": []
  }
 ],
 "metadata": {
  "kernelspec": {
   "display_name": "Python 3",
   "language": "python",
   "name": "python3"
  },
  "language_info": {
   "codemirror_mode": {
    "name": "ipython",
    "version": 3
   },
   "file_extension": ".py",
   "mimetype": "text/x-python",
   "name": "python",
   "nbconvert_exporter": "python",
   "pygments_lexer": "ipython3",
   "version": "3.7.6"
  }
 },
 "nbformat": 4,
 "nbformat_minor": 4
}
