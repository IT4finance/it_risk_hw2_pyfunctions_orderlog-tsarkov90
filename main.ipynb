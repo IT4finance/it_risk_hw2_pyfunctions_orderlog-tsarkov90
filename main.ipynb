{
 "cells": [
  {
   "cell_type": "markdown",
   "source": [
    "Импорт библиотек\n"
   ],
   "metadata": {
    "collapsed": false,
    "pycharm": {
     "name": "#%% md\n"
    }
   }
  },
  {
   "cell_type": "code",
   "execution_count": 1,
   "outputs": [],
   "source": [
    "import pandas as pd\n",
    "import matplotlib.pyplot as plt\n",
    "import psycopg2\n",
    "from datetime import datetime, timedelta\n",
    "import seaborn as sns # seaborn - надстройка над pyplot (она необязателена)\n",
    "\n",
    "import it4fin_functions as it4fin # мои функции выделенные в отдельный модуль"
   ],
   "metadata": {
    "collapsed": false,
    "pycharm": {
     "name": "#%%\n"
    }
   }
  },
  {
   "cell_type": "code",
   "execution_count": 2,
   "outputs": [],
   "source": [
    "# настройка для pandas для отображения всех строк и колонок\n",
    "pd.set_option('display.max_columns', None)\n",
    "pd.set_option('display.max_rows', None)\n",
    "\n",
    "sns.set() # делаем графики более красивыми через seaborn\n"
   ],
   "metadata": {
    "collapsed": false,
    "pycharm": {
     "name": "#%%\n"
    }
   }
  },
  {
   "cell_type": "markdown",
   "source": [
    "Создание соединения с базой данных"
   ],
   "metadata": {
    "collapsed": false,
    "pycharm": {
     "name": "#%% md\n"
    }
   }
  },
  {
   "cell_type": "code",
   "execution_count": 3,
   "outputs": [
    {
     "name": "stdout",
     "output_type": "stream",
     "text": [
      "{'user': 'postgres', 'channel_binding': 'prefer', 'dbname': 'postgres', 'host': 'localhost', 'port': '5432', 'options': '', 'sslmode': 'prefer', 'sslcompression': '0', 'sslsni': '1', 'ssl_min_protocol_version': 'TLSv1.2', 'gssencmode': 'disable', 'krbsrvname': 'postgres', 'target_session_attrs': 'any'}\n"
     ]
    },
    {
     "data": {
      "text/plain": "        no security_code buysell  order_no  action   price  volume  \\\n0  8330055          SBER       B   4086461       2  107.84    1330   \n\n     trade_no  trade_price       order_time  \n0  2541404003       107.84  14:35:14.135000  ",
      "text/html": "<div>\n<style scoped>\n    .dataframe tbody tr th:only-of-type {\n        vertical-align: middle;\n    }\n\n    .dataframe tbody tr th {\n        vertical-align: top;\n    }\n\n    .dataframe thead th {\n        text-align: right;\n    }\n</style>\n<table border=\"1\" class=\"dataframe\">\n  <thead>\n    <tr style=\"text-align: right;\">\n      <th></th>\n      <th>no</th>\n      <th>security_code</th>\n      <th>buysell</th>\n      <th>order_no</th>\n      <th>action</th>\n      <th>price</th>\n      <th>volume</th>\n      <th>trade_no</th>\n      <th>trade_price</th>\n      <th>order_time</th>\n    </tr>\n  </thead>\n  <tbody>\n    <tr>\n      <th>0</th>\n      <td>8330055</td>\n      <td>SBER</td>\n      <td>B</td>\n      <td>4086461</td>\n      <td>2</td>\n      <td>107.84</td>\n      <td>1330</td>\n      <td>2541404003</td>\n      <td>107.84</td>\n      <td>14:35:14.135000</td>\n    </tr>\n  </tbody>\n</table>\n</div>"
     },
     "execution_count": 3,
     "metadata": {},
     "output_type": "execute_result"
    }
   ],
   "source": [
    "cnxn = psycopg2.connect(user='postgres',\n",
    "                        database='postgres',\n",
    "                        host='localhost',\n",
    "                        port='5432',\n",
    "                        password='12345')\n",
    "print(cnxn.get_dsn_parameters())\n",
    "\n",
    "# проверочный запрос\n",
    "pd.read_sql_query(\"SELECT * FROM stock_orders LIMIT 1\", cnxn)"
   ],
   "metadata": {
    "collapsed": false,
    "pycharm": {
     "name": "#%%\n"
    }
   }
  },
  {
   "cell_type": "code",
   "execution_count": 12,
   "outputs": [],
   "source": [
    "def get_spread_series(cnxn, security_code, end_time, start_time=None, freq=None):\n",
    "    '''\n",
    "    Основная функция для выполнения дз\n",
    "\n",
    "    :param cnxn: соединение с базой данных\n",
    "    :param security_code: тикер для ценной бумаги, например, 'AFLT'\n",
    "    :param start_time: (optional) начало временного интервала, в формате 'HH:MI:SS.mss'\n",
    "    :param end_time: конец временного интервала в том же формате\n",
    "    :param freq: (optional), частота в миллисекундах\n",
    "\n",
    "    :returns: `DataFrame`, определяющий биржевой стакан для ценной бумаги (buy volume - price - sell volume) и бид аск спред как `int` в слyчае заданы только `end_time` и `security_code` . Если, в добавок, даны `start_time` и `freq` то так же возвращает `Series` бид-аск спредов для временного интервала между `start_time` и `end_time`\n",
    "\n",
    "    '''\n",
    "\n",
    "    # считываем шаблон запроса для получения таблицы\n",
    "    with open('template_get_remaining_volumes.sql', 'r', encoding='utf-8') as f:\n",
    "        get_remaining_volumes = f.read()\n",
    "\n",
    "    # печатаем полученные на вход аргументы\n",
    "    print(security_code, start_time, end_time)\n",
    "\n",
    "    # дальше ветка: если нет start_time или частота нулевая\n",
    "    if start_time is None or freq is None or freq == 0:\n",
    "        # то формируем запрос на получение таблицы заявок до времени end_time и выполняем его\n",
    "        query = get_remaining_volumes.format(security_code = security_code,\n",
    "                                             time1 = '0:00:00',\n",
    "                                             time2 = end_time)\n",
    "        raw = pd.read_sql_query(query, cnxn)\n",
    "\n",
    "        # превращаем эту таблицу в стакан\n",
    "        dom, bid, ask = it4fin.get_dom_from_raw(raw)\n",
    "        # возвращаем бид-аск спред и стакан\n",
    "        return (ask - bid) * 2 / (ask + bid), dom\n",
    "\n",
    "\n",
    "    # теперь когда заданы все аргументы\n",
    "    # проверяем то как задан формат времени\n",
    "    if '.' in start_time:\n",
    "        stime = datetime.strptime(start_time, '%H:%M:%S.%f')\n",
    "    else:\n",
    "        stime = datetime.strptime(start_time, '%H:%M:%S')\n",
    "\n",
    "    if '.' in end_time:\n",
    "        etime = datetime.strptime(end_time, '%H:%M:%S.%f')\n",
    "    else:\n",
    "        etime = datetime.strptime(end_time, '%H:%M:%S')\n",
    "\n",
    "    # создаём массивы для времени и спредов\n",
    "    times, spreads = [], []\n",
    "\n",
    "    query = get_remaining_volumes.format(security_code = security_code,\n",
    "                                         time1 = '0:00:00',\n",
    "                                         time2 = start_time)\n",
    "\n",
    "    new_raw = pd.read_sql_query(query, cnxn)\n",
    "    dom, bid, ask = it4fin.get_dom_from_raw(new_raw)\n",
    "\n",
    "    # добавляем в массивы координаты\n",
    "    times.append(stime)\n",
    "    spreads.append((ask - bid) * 2 / (ask + bid))\n",
    "\n",
    "    while True:\n",
    "        time1 = stime\n",
    "        time2 = stime + timedelta(milliseconds=freq)\n",
    "        if time2 > etime:\n",
    "            time2 = etime\n",
    "\n",
    "        print(time1.strftime('%H:%M:%S.%f'), time2.strftime('%H:%M:%S.%f'))\n",
    "        query = get_remaining_volumes.format(security_code = security_code,\n",
    "                                             time1 = time1.strftime('%H:%M:%S.%f'),\n",
    "                                             time2 = time2.strftime('%H:%M:%S.%f'))\n",
    "\n",
    "\n",
    "        raw1 = new_raw\n",
    "        raw2 = pd.read_sql_query(query, cnxn)\n",
    "\n",
    "        new_raw = pd.concat([raw1, raw2], axis=0, ignore_index=True).\\\n",
    "                groupby(by=[\"buysell\", \"order_no\", \"price\"], as_index=False).sum()\n",
    "\n",
    "        dom, bid, ask = it4fin.get_dom_from_raw(new_raw)\n",
    "        spreads.append((ask - bid) * 2 / (ask + bid))\n",
    "\n",
    "        # if not raw2.empty:\n",
    "        #     new_raw = pd.concat([raw1, raw2], axis=0, ignore_index=True).\\\n",
    "        #         groupby(by=[\"buysell\", \"order_no\", \"price\"], as_index=False).sum()\n",
    "        #\n",
    "        #     dom, bid, ask = it4fin.get_dom_from_raw(new_raw)\n",
    "        #     spreads.append((ask - bid) * 2 / (ask + bid))\n",
    "        # else:\n",
    "        #     new_raw = raw1\n",
    "        #     spreads.append(spreads[-1])\n",
    "\n",
    "        times.append(stime)\n",
    "        stime = time2\n",
    "\n",
    "        if stime == etime:\n",
    "            plt.step(times, spreads, where='post')\n",
    "            return (ask - bid) * 2 / (ask + bid), dom"
   ],
   "metadata": {
    "collapsed": false,
    "pycharm": {
     "name": "#%%\n"
    }
   }
  },
  {
   "cell_type": "code",
   "execution_count": 9,
   "outputs": [
    {
     "name": "stdout",
     "output_type": "stream",
     "text": [
      "YNDX None 14:20:10\n",
      "0.003163722646981401\n",
      "(88, 2)\n"
     ]
    },
    {
     "data": {
      "text/plain": "          buy   sell\nprice               \n1197.0    0.0   31.0\n1190.3    0.0    2.0\n1189.0    0.0    2.0\n1173.6    0.0   10.0\n1160.0    0.0   70.0\n1159.9    0.0  100.0\n1156.2    0.0    3.0\n1155.7    0.0    1.0\n1152.7    0.0    2.0\n1150.0    0.0  902.0\n1149.9    0.0  218.0\n1149.7    0.0  139.0\n1149.1    0.0   10.0\n1149.0    0.0   27.0\n1148.8    0.0   10.0\n1148.5    0.0   10.0\n1148.3    0.0  170.0\n1148.0    0.0    1.0\n1147.9    0.0  144.0\n1147.8    0.0   57.0\n1147.0    0.0    1.0\n1146.9    0.0    1.0\n1146.0    0.0    1.0\n1145.8    0.0  301.0\n1145.0    0.0   76.0\n1144.9    0.0   22.0\n1144.8    0.0   10.0\n1144.5    0.0  280.0\n1144.4    0.0    2.0\n1144.0    0.0  178.0\n1143.9    0.0    1.0\n1143.7    0.0   50.0\n1143.0    0.0    1.0\n1142.0    0.0    2.0\n1141.7    0.0  500.0\n1141.5    0.0    1.0\n1141.4    0.0  110.0\n1141.0    0.0  555.0\n1140.7    0.0   34.0\n1140.0    0.0  399.0\n1139.9    0.0   21.0\n1139.8    0.0    6.0\n1139.7    0.0    1.0\n1136.1  563.0    0.0\n1135.0   25.0    0.0\n1134.6    1.0    0.0\n1134.5  300.0    0.0\n1134.3   32.0    0.0\n1134.2   20.0    0.0\n1134.1   50.0    0.0\n1134.0   45.0    0.0\n1133.6   36.0    0.0\n1133.5  200.0    0.0\n1133.4   46.0    0.0\n1131.1   19.0    0.0\n1131.0   70.0    0.0\n1130.5  499.0    0.0\n1130.0    1.0    0.0\n1129.9  301.0    0.0\n1128.2   50.0    0.0\n1128.0    1.0    0.0\n1127.5   40.0    0.0\n1127.0  100.0    0.0\n1125.2    8.0    0.0\n1125.1  500.0    0.0\n1124.7  122.0    0.0\n1124.3    5.0    0.0\n1124.0  120.0    0.0\n1122.0    1.0    0.0\n1121.5    2.0    0.0\n1120.1  500.0    0.0\n1120.0    1.0    0.0\n1118.5    1.0    0.0\n1118.0   63.0    0.0\n1117.3  100.0    0.0\n1117.0    3.0    0.0\n1115.6    1.0    0.0\n1115.1  500.0    0.0\n1115.0   40.0    0.0\n1110.1  500.0    0.0\n1104.8   19.0    0.0\n1100.0  120.0    0.0\n1079.1    2.0    0.0\n1071.3   10.0    0.0\n1064.0   55.0    0.0\n1050.1    5.0    0.0\n1049.0   10.0    0.0\n1000.0  100.0    0.0",
      "text/html": "<div>\n<style scoped>\n    .dataframe tbody tr th:only-of-type {\n        vertical-align: middle;\n    }\n\n    .dataframe tbody tr th {\n        vertical-align: top;\n    }\n\n    .dataframe thead th {\n        text-align: right;\n    }\n</style>\n<table border=\"1\" class=\"dataframe\">\n  <thead>\n    <tr style=\"text-align: right;\">\n      <th></th>\n      <th>buy</th>\n      <th>sell</th>\n    </tr>\n    <tr>\n      <th>price</th>\n      <th></th>\n      <th></th>\n    </tr>\n  </thead>\n  <tbody>\n    <tr>\n      <th>1197.0</th>\n      <td>0.0</td>\n      <td>31.0</td>\n    </tr>\n    <tr>\n      <th>1190.3</th>\n      <td>0.0</td>\n      <td>2.0</td>\n    </tr>\n    <tr>\n      <th>1189.0</th>\n      <td>0.0</td>\n      <td>2.0</td>\n    </tr>\n    <tr>\n      <th>1173.6</th>\n      <td>0.0</td>\n      <td>10.0</td>\n    </tr>\n    <tr>\n      <th>1160.0</th>\n      <td>0.0</td>\n      <td>70.0</td>\n    </tr>\n    <tr>\n      <th>1159.9</th>\n      <td>0.0</td>\n      <td>100.0</td>\n    </tr>\n    <tr>\n      <th>1156.2</th>\n      <td>0.0</td>\n      <td>3.0</td>\n    </tr>\n    <tr>\n      <th>1155.7</th>\n      <td>0.0</td>\n      <td>1.0</td>\n    </tr>\n    <tr>\n      <th>1152.7</th>\n      <td>0.0</td>\n      <td>2.0</td>\n    </tr>\n    <tr>\n      <th>1150.0</th>\n      <td>0.0</td>\n      <td>902.0</td>\n    </tr>\n    <tr>\n      <th>1149.9</th>\n      <td>0.0</td>\n      <td>218.0</td>\n    </tr>\n    <tr>\n      <th>1149.7</th>\n      <td>0.0</td>\n      <td>139.0</td>\n    </tr>\n    <tr>\n      <th>1149.1</th>\n      <td>0.0</td>\n      <td>10.0</td>\n    </tr>\n    <tr>\n      <th>1149.0</th>\n      <td>0.0</td>\n      <td>27.0</td>\n    </tr>\n    <tr>\n      <th>1148.8</th>\n      <td>0.0</td>\n      <td>10.0</td>\n    </tr>\n    <tr>\n      <th>1148.5</th>\n      <td>0.0</td>\n      <td>10.0</td>\n    </tr>\n    <tr>\n      <th>1148.3</th>\n      <td>0.0</td>\n      <td>170.0</td>\n    </tr>\n    <tr>\n      <th>1148.0</th>\n      <td>0.0</td>\n      <td>1.0</td>\n    </tr>\n    <tr>\n      <th>1147.9</th>\n      <td>0.0</td>\n      <td>144.0</td>\n    </tr>\n    <tr>\n      <th>1147.8</th>\n      <td>0.0</td>\n      <td>57.0</td>\n    </tr>\n    <tr>\n      <th>1147.0</th>\n      <td>0.0</td>\n      <td>1.0</td>\n    </tr>\n    <tr>\n      <th>1146.9</th>\n      <td>0.0</td>\n      <td>1.0</td>\n    </tr>\n    <tr>\n      <th>1146.0</th>\n      <td>0.0</td>\n      <td>1.0</td>\n    </tr>\n    <tr>\n      <th>1145.8</th>\n      <td>0.0</td>\n      <td>301.0</td>\n    </tr>\n    <tr>\n      <th>1145.0</th>\n      <td>0.0</td>\n      <td>76.0</td>\n    </tr>\n    <tr>\n      <th>1144.9</th>\n      <td>0.0</td>\n      <td>22.0</td>\n    </tr>\n    <tr>\n      <th>1144.8</th>\n      <td>0.0</td>\n      <td>10.0</td>\n    </tr>\n    <tr>\n      <th>1144.5</th>\n      <td>0.0</td>\n      <td>280.0</td>\n    </tr>\n    <tr>\n      <th>1144.4</th>\n      <td>0.0</td>\n      <td>2.0</td>\n    </tr>\n    <tr>\n      <th>1144.0</th>\n      <td>0.0</td>\n      <td>178.0</td>\n    </tr>\n    <tr>\n      <th>1143.9</th>\n      <td>0.0</td>\n      <td>1.0</td>\n    </tr>\n    <tr>\n      <th>1143.7</th>\n      <td>0.0</td>\n      <td>50.0</td>\n    </tr>\n    <tr>\n      <th>1143.0</th>\n      <td>0.0</td>\n      <td>1.0</td>\n    </tr>\n    <tr>\n      <th>1142.0</th>\n      <td>0.0</td>\n      <td>2.0</td>\n    </tr>\n    <tr>\n      <th>1141.7</th>\n      <td>0.0</td>\n      <td>500.0</td>\n    </tr>\n    <tr>\n      <th>1141.5</th>\n      <td>0.0</td>\n      <td>1.0</td>\n    </tr>\n    <tr>\n      <th>1141.4</th>\n      <td>0.0</td>\n      <td>110.0</td>\n    </tr>\n    <tr>\n      <th>1141.0</th>\n      <td>0.0</td>\n      <td>555.0</td>\n    </tr>\n    <tr>\n      <th>1140.7</th>\n      <td>0.0</td>\n      <td>34.0</td>\n    </tr>\n    <tr>\n      <th>1140.0</th>\n      <td>0.0</td>\n      <td>399.0</td>\n    </tr>\n    <tr>\n      <th>1139.9</th>\n      <td>0.0</td>\n      <td>21.0</td>\n    </tr>\n    <tr>\n      <th>1139.8</th>\n      <td>0.0</td>\n      <td>6.0</td>\n    </tr>\n    <tr>\n      <th>1139.7</th>\n      <td>0.0</td>\n      <td>1.0</td>\n    </tr>\n    <tr>\n      <th>1136.1</th>\n      <td>563.0</td>\n      <td>0.0</td>\n    </tr>\n    <tr>\n      <th>1135.0</th>\n      <td>25.0</td>\n      <td>0.0</td>\n    </tr>\n    <tr>\n      <th>1134.6</th>\n      <td>1.0</td>\n      <td>0.0</td>\n    </tr>\n    <tr>\n      <th>1134.5</th>\n      <td>300.0</td>\n      <td>0.0</td>\n    </tr>\n    <tr>\n      <th>1134.3</th>\n      <td>32.0</td>\n      <td>0.0</td>\n    </tr>\n    <tr>\n      <th>1134.2</th>\n      <td>20.0</td>\n      <td>0.0</td>\n    </tr>\n    <tr>\n      <th>1134.1</th>\n      <td>50.0</td>\n      <td>0.0</td>\n    </tr>\n    <tr>\n      <th>1134.0</th>\n      <td>45.0</td>\n      <td>0.0</td>\n    </tr>\n    <tr>\n      <th>1133.6</th>\n      <td>36.0</td>\n      <td>0.0</td>\n    </tr>\n    <tr>\n      <th>1133.5</th>\n      <td>200.0</td>\n      <td>0.0</td>\n    </tr>\n    <tr>\n      <th>1133.4</th>\n      <td>46.0</td>\n      <td>0.0</td>\n    </tr>\n    <tr>\n      <th>1131.1</th>\n      <td>19.0</td>\n      <td>0.0</td>\n    </tr>\n    <tr>\n      <th>1131.0</th>\n      <td>70.0</td>\n      <td>0.0</td>\n    </tr>\n    <tr>\n      <th>1130.5</th>\n      <td>499.0</td>\n      <td>0.0</td>\n    </tr>\n    <tr>\n      <th>1130.0</th>\n      <td>1.0</td>\n      <td>0.0</td>\n    </tr>\n    <tr>\n      <th>1129.9</th>\n      <td>301.0</td>\n      <td>0.0</td>\n    </tr>\n    <tr>\n      <th>1128.2</th>\n      <td>50.0</td>\n      <td>0.0</td>\n    </tr>\n    <tr>\n      <th>1128.0</th>\n      <td>1.0</td>\n      <td>0.0</td>\n    </tr>\n    <tr>\n      <th>1127.5</th>\n      <td>40.0</td>\n      <td>0.0</td>\n    </tr>\n    <tr>\n      <th>1127.0</th>\n      <td>100.0</td>\n      <td>0.0</td>\n    </tr>\n    <tr>\n      <th>1125.2</th>\n      <td>8.0</td>\n      <td>0.0</td>\n    </tr>\n    <tr>\n      <th>1125.1</th>\n      <td>500.0</td>\n      <td>0.0</td>\n    </tr>\n    <tr>\n      <th>1124.7</th>\n      <td>122.0</td>\n      <td>0.0</td>\n    </tr>\n    <tr>\n      <th>1124.3</th>\n      <td>5.0</td>\n      <td>0.0</td>\n    </tr>\n    <tr>\n      <th>1124.0</th>\n      <td>120.0</td>\n      <td>0.0</td>\n    </tr>\n    <tr>\n      <th>1122.0</th>\n      <td>1.0</td>\n      <td>0.0</td>\n    </tr>\n    <tr>\n      <th>1121.5</th>\n      <td>2.0</td>\n      <td>0.0</td>\n    </tr>\n    <tr>\n      <th>1120.1</th>\n      <td>500.0</td>\n      <td>0.0</td>\n    </tr>\n    <tr>\n      <th>1120.0</th>\n      <td>1.0</td>\n      <td>0.0</td>\n    </tr>\n    <tr>\n      <th>1118.5</th>\n      <td>1.0</td>\n      <td>0.0</td>\n    </tr>\n    <tr>\n      <th>1118.0</th>\n      <td>63.0</td>\n      <td>0.0</td>\n    </tr>\n    <tr>\n      <th>1117.3</th>\n      <td>100.0</td>\n      <td>0.0</td>\n    </tr>\n    <tr>\n      <th>1117.0</th>\n      <td>3.0</td>\n      <td>0.0</td>\n    </tr>\n    <tr>\n      <th>1115.6</th>\n      <td>1.0</td>\n      <td>0.0</td>\n    </tr>\n    <tr>\n      <th>1115.1</th>\n      <td>500.0</td>\n      <td>0.0</td>\n    </tr>\n    <tr>\n      <th>1115.0</th>\n      <td>40.0</td>\n      <td>0.0</td>\n    </tr>\n    <tr>\n      <th>1110.1</th>\n      <td>500.0</td>\n      <td>0.0</td>\n    </tr>\n    <tr>\n      <th>1104.8</th>\n      <td>19.0</td>\n      <td>0.0</td>\n    </tr>\n    <tr>\n      <th>1100.0</th>\n      <td>120.0</td>\n      <td>0.0</td>\n    </tr>\n    <tr>\n      <th>1079.1</th>\n      <td>2.0</td>\n      <td>0.0</td>\n    </tr>\n    <tr>\n      <th>1071.3</th>\n      <td>10.0</td>\n      <td>0.0</td>\n    </tr>\n    <tr>\n      <th>1064.0</th>\n      <td>55.0</td>\n      <td>0.0</td>\n    </tr>\n    <tr>\n      <th>1050.1</th>\n      <td>5.0</td>\n      <td>0.0</td>\n    </tr>\n    <tr>\n      <th>1049.0</th>\n      <td>10.0</td>\n      <td>0.0</td>\n    </tr>\n    <tr>\n      <th>1000.0</th>\n      <td>100.0</td>\n      <td>0.0</td>\n    </tr>\n  </tbody>\n</table>\n</div>"
     },
     "metadata": {},
     "output_type": "display_data"
    }
   ],
   "source": [
    "# чекаем случай без спреда\n",
    "bds, dom = get_spread_series(cnxn,\n",
    "                             security_code='YNDX',\n",
    "                             end_time='14:20:10')\n",
    "print(bds)\n",
    "print(dom.shape)\n",
    "display(dom)"
   ],
   "metadata": {
    "collapsed": false,
    "pycharm": {
     "name": "#%%\n"
    }
   }
  },
  {
   "cell_type": "code",
   "execution_count": 10,
   "outputs": [
    {
     "name": "stdout",
     "output_type": "stream",
     "text": [
      "YNDX 12:00:00 14:20:10\n",
      "12:00:00.000000 12:01:00.000000\n",
      "12:01:00.000000 12:02:00.000000\n",
      "12:02:00.000000 12:03:00.000000\n",
      "12:03:00.000000 12:04:00.000000\n",
      "12:04:00.000000 12:05:00.000000\n",
      "12:05:00.000000 12:06:00.000000\n",
      "12:06:00.000000 12:07:00.000000\n",
      "12:07:00.000000 12:08:00.000000\n",
      "12:08:00.000000 12:09:00.000000\n",
      "12:09:00.000000 12:10:00.000000\n",
      "12:10:00.000000 12:11:00.000000\n",
      "12:11:00.000000 12:12:00.000000\n",
      "12:12:00.000000 12:13:00.000000\n",
      "12:13:00.000000 12:14:00.000000\n",
      "12:14:00.000000 12:15:00.000000\n",
      "12:15:00.000000 12:16:00.000000\n",
      "12:16:00.000000 12:17:00.000000\n",
      "12:17:00.000000 12:18:00.000000\n",
      "12:18:00.000000 12:19:00.000000\n",
      "12:19:00.000000 12:20:00.000000\n",
      "12:20:00.000000 12:21:00.000000\n",
      "12:21:00.000000 12:22:00.000000\n",
      "12:22:00.000000 12:23:00.000000\n",
      "12:23:00.000000 12:24:00.000000\n",
      "12:24:00.000000 12:25:00.000000\n",
      "12:25:00.000000 12:26:00.000000\n",
      "12:26:00.000000 12:27:00.000000\n",
      "12:27:00.000000 12:28:00.000000\n",
      "12:28:00.000000 12:29:00.000000\n",
      "12:29:00.000000 12:30:00.000000\n",
      "12:30:00.000000 12:31:00.000000\n",
      "12:31:00.000000 12:32:00.000000\n",
      "12:32:00.000000 12:33:00.000000\n",
      "12:33:00.000000 12:34:00.000000\n",
      "12:34:00.000000 12:35:00.000000\n",
      "12:35:00.000000 12:36:00.000000\n",
      "12:36:00.000000 12:37:00.000000\n",
      "12:37:00.000000 12:38:00.000000\n",
      "12:38:00.000000 12:39:00.000000\n",
      "12:39:00.000000 12:40:00.000000\n",
      "12:40:00.000000 12:41:00.000000\n",
      "12:41:00.000000 12:42:00.000000\n",
      "12:42:00.000000 12:43:00.000000\n",
      "12:43:00.000000 12:44:00.000000\n",
      "12:44:00.000000 12:45:00.000000\n",
      "12:45:00.000000 12:46:00.000000\n",
      "12:46:00.000000 12:47:00.000000\n",
      "12:47:00.000000 12:48:00.000000\n",
      "12:48:00.000000 12:49:00.000000\n",
      "12:49:00.000000 12:50:00.000000\n",
      "12:50:00.000000 12:51:00.000000\n",
      "12:51:00.000000 12:52:00.000000\n",
      "12:52:00.000000 12:53:00.000000\n",
      "12:53:00.000000 12:54:00.000000\n",
      "12:54:00.000000 12:55:00.000000\n",
      "12:55:00.000000 12:56:00.000000\n",
      "12:56:00.000000 12:57:00.000000\n",
      "12:57:00.000000 12:58:00.000000\n",
      "12:58:00.000000 12:59:00.000000\n",
      "12:59:00.000000 13:00:00.000000\n",
      "13:00:00.000000 13:01:00.000000\n",
      "13:01:00.000000 13:02:00.000000\n",
      "13:02:00.000000 13:03:00.000000\n",
      "13:03:00.000000 13:04:00.000000\n",
      "13:04:00.000000 13:05:00.000000\n",
      "13:05:00.000000 13:06:00.000000\n",
      "13:06:00.000000 13:07:00.000000\n",
      "13:07:00.000000 13:08:00.000000\n",
      "13:08:00.000000 13:09:00.000000\n",
      "13:09:00.000000 13:10:00.000000\n",
      "13:10:00.000000 13:11:00.000000\n",
      "13:11:00.000000 13:12:00.000000\n",
      "13:12:00.000000 13:13:00.000000\n",
      "13:13:00.000000 13:14:00.000000\n",
      "13:14:00.000000 13:15:00.000000\n",
      "13:15:00.000000 13:16:00.000000\n",
      "13:16:00.000000 13:17:00.000000\n",
      "13:17:00.000000 13:18:00.000000\n",
      "13:18:00.000000 13:19:00.000000\n",
      "13:19:00.000000 13:20:00.000000\n",
      "13:20:00.000000 13:21:00.000000\n",
      "13:21:00.000000 13:22:00.000000\n",
      "13:22:00.000000 13:23:00.000000\n",
      "13:23:00.000000 13:24:00.000000\n",
      "13:24:00.000000 13:25:00.000000\n",
      "13:25:00.000000 13:26:00.000000\n",
      "13:26:00.000000 13:27:00.000000\n",
      "13:27:00.000000 13:28:00.000000\n",
      "13:28:00.000000 13:29:00.000000\n",
      "13:29:00.000000 13:30:00.000000\n",
      "13:30:00.000000 13:31:00.000000\n",
      "13:31:00.000000 13:32:00.000000\n",
      "13:32:00.000000 13:33:00.000000\n",
      "13:33:00.000000 13:34:00.000000\n",
      "13:34:00.000000 13:35:00.000000\n",
      "13:35:00.000000 13:36:00.000000\n",
      "13:36:00.000000 13:37:00.000000\n",
      "13:37:00.000000 13:38:00.000000\n",
      "13:38:00.000000 13:39:00.000000\n",
      "13:39:00.000000 13:40:00.000000\n",
      "13:40:00.000000 13:41:00.000000\n",
      "13:41:00.000000 13:42:00.000000\n",
      "13:42:00.000000 13:43:00.000000\n",
      "13:43:00.000000 13:44:00.000000\n",
      "13:44:00.000000 13:45:00.000000\n",
      "13:45:00.000000 13:46:00.000000\n",
      "13:46:00.000000 13:47:00.000000\n",
      "13:47:00.000000 13:48:00.000000\n",
      "13:48:00.000000 13:49:00.000000\n",
      "13:49:00.000000 13:50:00.000000\n",
      "13:50:00.000000 13:51:00.000000\n",
      "13:51:00.000000 13:52:00.000000\n",
      "13:52:00.000000 13:53:00.000000\n",
      "13:53:00.000000 13:54:00.000000\n",
      "13:54:00.000000 13:55:00.000000\n",
      "13:55:00.000000 13:56:00.000000\n",
      "13:56:00.000000 13:57:00.000000\n",
      "13:57:00.000000 13:58:00.000000\n",
      "13:58:00.000000 13:59:00.000000\n",
      "13:59:00.000000 14:00:00.000000\n",
      "14:00:00.000000 14:01:00.000000\n",
      "14:01:00.000000 14:02:00.000000\n",
      "14:02:00.000000 14:03:00.000000\n",
      "14:03:00.000000 14:04:00.000000\n",
      "14:04:00.000000 14:05:00.000000\n",
      "14:05:00.000000 14:06:00.000000\n",
      "14:06:00.000000 14:07:00.000000\n",
      "14:07:00.000000 14:08:00.000000\n",
      "14:08:00.000000 14:09:00.000000\n",
      "14:09:00.000000 14:10:00.000000\n",
      "14:10:00.000000 14:11:00.000000\n",
      "14:11:00.000000 14:12:00.000000\n",
      "14:12:00.000000 14:13:00.000000\n",
      "14:13:00.000000 14:14:00.000000\n",
      "14:14:00.000000 14:15:00.000000\n",
      "14:15:00.000000 14:16:00.000000\n",
      "14:16:00.000000 14:17:00.000000\n",
      "14:17:00.000000 14:18:00.000000\n",
      "14:18:00.000000 14:19:00.000000\n",
      "14:19:00.000000 14:20:00.000000\n",
      "14:20:00.000000 14:20:10.000000\n",
      "0.003163722646981401\n",
      "(88, 2)\n"
     ]
    },
    {
     "data": {
      "text/plain": "          buy   sell\nprice               \n1197.0    0.0   31.0\n1190.3    0.0    2.0\n1189.0    0.0    2.0\n1173.6    0.0   10.0\n1160.0    0.0   70.0\n1159.9    0.0  100.0\n1156.2    0.0    3.0\n1155.7    0.0    1.0\n1152.7    0.0    2.0\n1150.0    0.0  902.0\n1149.9    0.0  218.0\n1149.7    0.0  139.0\n1149.1    0.0   10.0\n1149.0    0.0   27.0\n1148.8    0.0   10.0\n1148.5    0.0   10.0\n1148.3    0.0  170.0\n1148.0    0.0    1.0\n1147.9    0.0  144.0\n1147.8    0.0   57.0\n1147.0    0.0    1.0\n1146.9    0.0    1.0\n1146.0    0.0    1.0\n1145.8    0.0  301.0\n1145.0    0.0   76.0\n1144.9    0.0   22.0\n1144.8    0.0   10.0\n1144.5    0.0  280.0\n1144.4    0.0    2.0\n1144.0    0.0  178.0\n1143.9    0.0    1.0\n1143.7    0.0   50.0\n1143.0    0.0    1.0\n1142.0    0.0    2.0\n1141.7    0.0  500.0\n1141.5    0.0    1.0\n1141.4    0.0  110.0\n1141.0    0.0  555.0\n1140.7    0.0   34.0\n1140.0    0.0  399.0\n1139.9    0.0   21.0\n1139.8    0.0    6.0\n1139.7    0.0    1.0\n1136.1  563.0    0.0\n1135.0   25.0    0.0\n1134.6    1.0    0.0\n1134.5  300.0    0.0\n1134.3   32.0    0.0\n1134.2   20.0    0.0\n1134.1   50.0    0.0\n1134.0   45.0    0.0\n1133.6   36.0    0.0\n1133.5  200.0    0.0\n1133.4   46.0    0.0\n1131.1   19.0    0.0\n1131.0   70.0    0.0\n1130.5  499.0    0.0\n1130.0    1.0    0.0\n1129.9  301.0    0.0\n1128.2   50.0    0.0\n1128.0    1.0    0.0\n1127.5   40.0    0.0\n1127.0  100.0    0.0\n1125.2    8.0    0.0\n1125.1  500.0    0.0\n1124.7  122.0    0.0\n1124.3    5.0    0.0\n1124.0  120.0    0.0\n1122.0    1.0    0.0\n1121.5    2.0    0.0\n1120.1  500.0    0.0\n1120.0    1.0    0.0\n1118.5    1.0    0.0\n1118.0   63.0    0.0\n1117.3  100.0    0.0\n1117.0    3.0    0.0\n1115.6    1.0    0.0\n1115.1  500.0    0.0\n1115.0   40.0    0.0\n1110.1  500.0    0.0\n1104.8   19.0    0.0\n1100.0  120.0    0.0\n1079.1    2.0    0.0\n1071.3   10.0    0.0\n1064.0   55.0    0.0\n1050.1    5.0    0.0\n1049.0   10.0    0.0\n1000.0  100.0    0.0",
      "text/html": "<div>\n<style scoped>\n    .dataframe tbody tr th:only-of-type {\n        vertical-align: middle;\n    }\n\n    .dataframe tbody tr th {\n        vertical-align: top;\n    }\n\n    .dataframe thead th {\n        text-align: right;\n    }\n</style>\n<table border=\"1\" class=\"dataframe\">\n  <thead>\n    <tr style=\"text-align: right;\">\n      <th></th>\n      <th>buy</th>\n      <th>sell</th>\n    </tr>\n    <tr>\n      <th>price</th>\n      <th></th>\n      <th></th>\n    </tr>\n  </thead>\n  <tbody>\n    <tr>\n      <th>1197.0</th>\n      <td>0.0</td>\n      <td>31.0</td>\n    </tr>\n    <tr>\n      <th>1190.3</th>\n      <td>0.0</td>\n      <td>2.0</td>\n    </tr>\n    <tr>\n      <th>1189.0</th>\n      <td>0.0</td>\n      <td>2.0</td>\n    </tr>\n    <tr>\n      <th>1173.6</th>\n      <td>0.0</td>\n      <td>10.0</td>\n    </tr>\n    <tr>\n      <th>1160.0</th>\n      <td>0.0</td>\n      <td>70.0</td>\n    </tr>\n    <tr>\n      <th>1159.9</th>\n      <td>0.0</td>\n      <td>100.0</td>\n    </tr>\n    <tr>\n      <th>1156.2</th>\n      <td>0.0</td>\n      <td>3.0</td>\n    </tr>\n    <tr>\n      <th>1155.7</th>\n      <td>0.0</td>\n      <td>1.0</td>\n    </tr>\n    <tr>\n      <th>1152.7</th>\n      <td>0.0</td>\n      <td>2.0</td>\n    </tr>\n    <tr>\n      <th>1150.0</th>\n      <td>0.0</td>\n      <td>902.0</td>\n    </tr>\n    <tr>\n      <th>1149.9</th>\n      <td>0.0</td>\n      <td>218.0</td>\n    </tr>\n    <tr>\n      <th>1149.7</th>\n      <td>0.0</td>\n      <td>139.0</td>\n    </tr>\n    <tr>\n      <th>1149.1</th>\n      <td>0.0</td>\n      <td>10.0</td>\n    </tr>\n    <tr>\n      <th>1149.0</th>\n      <td>0.0</td>\n      <td>27.0</td>\n    </tr>\n    <tr>\n      <th>1148.8</th>\n      <td>0.0</td>\n      <td>10.0</td>\n    </tr>\n    <tr>\n      <th>1148.5</th>\n      <td>0.0</td>\n      <td>10.0</td>\n    </tr>\n    <tr>\n      <th>1148.3</th>\n      <td>0.0</td>\n      <td>170.0</td>\n    </tr>\n    <tr>\n      <th>1148.0</th>\n      <td>0.0</td>\n      <td>1.0</td>\n    </tr>\n    <tr>\n      <th>1147.9</th>\n      <td>0.0</td>\n      <td>144.0</td>\n    </tr>\n    <tr>\n      <th>1147.8</th>\n      <td>0.0</td>\n      <td>57.0</td>\n    </tr>\n    <tr>\n      <th>1147.0</th>\n      <td>0.0</td>\n      <td>1.0</td>\n    </tr>\n    <tr>\n      <th>1146.9</th>\n      <td>0.0</td>\n      <td>1.0</td>\n    </tr>\n    <tr>\n      <th>1146.0</th>\n      <td>0.0</td>\n      <td>1.0</td>\n    </tr>\n    <tr>\n      <th>1145.8</th>\n      <td>0.0</td>\n      <td>301.0</td>\n    </tr>\n    <tr>\n      <th>1145.0</th>\n      <td>0.0</td>\n      <td>76.0</td>\n    </tr>\n    <tr>\n      <th>1144.9</th>\n      <td>0.0</td>\n      <td>22.0</td>\n    </tr>\n    <tr>\n      <th>1144.8</th>\n      <td>0.0</td>\n      <td>10.0</td>\n    </tr>\n    <tr>\n      <th>1144.5</th>\n      <td>0.0</td>\n      <td>280.0</td>\n    </tr>\n    <tr>\n      <th>1144.4</th>\n      <td>0.0</td>\n      <td>2.0</td>\n    </tr>\n    <tr>\n      <th>1144.0</th>\n      <td>0.0</td>\n      <td>178.0</td>\n    </tr>\n    <tr>\n      <th>1143.9</th>\n      <td>0.0</td>\n      <td>1.0</td>\n    </tr>\n    <tr>\n      <th>1143.7</th>\n      <td>0.0</td>\n      <td>50.0</td>\n    </tr>\n    <tr>\n      <th>1143.0</th>\n      <td>0.0</td>\n      <td>1.0</td>\n    </tr>\n    <tr>\n      <th>1142.0</th>\n      <td>0.0</td>\n      <td>2.0</td>\n    </tr>\n    <tr>\n      <th>1141.7</th>\n      <td>0.0</td>\n      <td>500.0</td>\n    </tr>\n    <tr>\n      <th>1141.5</th>\n      <td>0.0</td>\n      <td>1.0</td>\n    </tr>\n    <tr>\n      <th>1141.4</th>\n      <td>0.0</td>\n      <td>110.0</td>\n    </tr>\n    <tr>\n      <th>1141.0</th>\n      <td>0.0</td>\n      <td>555.0</td>\n    </tr>\n    <tr>\n      <th>1140.7</th>\n      <td>0.0</td>\n      <td>34.0</td>\n    </tr>\n    <tr>\n      <th>1140.0</th>\n      <td>0.0</td>\n      <td>399.0</td>\n    </tr>\n    <tr>\n      <th>1139.9</th>\n      <td>0.0</td>\n      <td>21.0</td>\n    </tr>\n    <tr>\n      <th>1139.8</th>\n      <td>0.0</td>\n      <td>6.0</td>\n    </tr>\n    <tr>\n      <th>1139.7</th>\n      <td>0.0</td>\n      <td>1.0</td>\n    </tr>\n    <tr>\n      <th>1136.1</th>\n      <td>563.0</td>\n      <td>0.0</td>\n    </tr>\n    <tr>\n      <th>1135.0</th>\n      <td>25.0</td>\n      <td>0.0</td>\n    </tr>\n    <tr>\n      <th>1134.6</th>\n      <td>1.0</td>\n      <td>0.0</td>\n    </tr>\n    <tr>\n      <th>1134.5</th>\n      <td>300.0</td>\n      <td>0.0</td>\n    </tr>\n    <tr>\n      <th>1134.3</th>\n      <td>32.0</td>\n      <td>0.0</td>\n    </tr>\n    <tr>\n      <th>1134.2</th>\n      <td>20.0</td>\n      <td>0.0</td>\n    </tr>\n    <tr>\n      <th>1134.1</th>\n      <td>50.0</td>\n      <td>0.0</td>\n    </tr>\n    <tr>\n      <th>1134.0</th>\n      <td>45.0</td>\n      <td>0.0</td>\n    </tr>\n    <tr>\n      <th>1133.6</th>\n      <td>36.0</td>\n      <td>0.0</td>\n    </tr>\n    <tr>\n      <th>1133.5</th>\n      <td>200.0</td>\n      <td>0.0</td>\n    </tr>\n    <tr>\n      <th>1133.4</th>\n      <td>46.0</td>\n      <td>0.0</td>\n    </tr>\n    <tr>\n      <th>1131.1</th>\n      <td>19.0</td>\n      <td>0.0</td>\n    </tr>\n    <tr>\n      <th>1131.0</th>\n      <td>70.0</td>\n      <td>0.0</td>\n    </tr>\n    <tr>\n      <th>1130.5</th>\n      <td>499.0</td>\n      <td>0.0</td>\n    </tr>\n    <tr>\n      <th>1130.0</th>\n      <td>1.0</td>\n      <td>0.0</td>\n    </tr>\n    <tr>\n      <th>1129.9</th>\n      <td>301.0</td>\n      <td>0.0</td>\n    </tr>\n    <tr>\n      <th>1128.2</th>\n      <td>50.0</td>\n      <td>0.0</td>\n    </tr>\n    <tr>\n      <th>1128.0</th>\n      <td>1.0</td>\n      <td>0.0</td>\n    </tr>\n    <tr>\n      <th>1127.5</th>\n      <td>40.0</td>\n      <td>0.0</td>\n    </tr>\n    <tr>\n      <th>1127.0</th>\n      <td>100.0</td>\n      <td>0.0</td>\n    </tr>\n    <tr>\n      <th>1125.2</th>\n      <td>8.0</td>\n      <td>0.0</td>\n    </tr>\n    <tr>\n      <th>1125.1</th>\n      <td>500.0</td>\n      <td>0.0</td>\n    </tr>\n    <tr>\n      <th>1124.7</th>\n      <td>122.0</td>\n      <td>0.0</td>\n    </tr>\n    <tr>\n      <th>1124.3</th>\n      <td>5.0</td>\n      <td>0.0</td>\n    </tr>\n    <tr>\n      <th>1124.0</th>\n      <td>120.0</td>\n      <td>0.0</td>\n    </tr>\n    <tr>\n      <th>1122.0</th>\n      <td>1.0</td>\n      <td>0.0</td>\n    </tr>\n    <tr>\n      <th>1121.5</th>\n      <td>2.0</td>\n      <td>0.0</td>\n    </tr>\n    <tr>\n      <th>1120.1</th>\n      <td>500.0</td>\n      <td>0.0</td>\n    </tr>\n    <tr>\n      <th>1120.0</th>\n      <td>1.0</td>\n      <td>0.0</td>\n    </tr>\n    <tr>\n      <th>1118.5</th>\n      <td>1.0</td>\n      <td>0.0</td>\n    </tr>\n    <tr>\n      <th>1118.0</th>\n      <td>63.0</td>\n      <td>0.0</td>\n    </tr>\n    <tr>\n      <th>1117.3</th>\n      <td>100.0</td>\n      <td>0.0</td>\n    </tr>\n    <tr>\n      <th>1117.0</th>\n      <td>3.0</td>\n      <td>0.0</td>\n    </tr>\n    <tr>\n      <th>1115.6</th>\n      <td>1.0</td>\n      <td>0.0</td>\n    </tr>\n    <tr>\n      <th>1115.1</th>\n      <td>500.0</td>\n      <td>0.0</td>\n    </tr>\n    <tr>\n      <th>1115.0</th>\n      <td>40.0</td>\n      <td>0.0</td>\n    </tr>\n    <tr>\n      <th>1110.1</th>\n      <td>500.0</td>\n      <td>0.0</td>\n    </tr>\n    <tr>\n      <th>1104.8</th>\n      <td>19.0</td>\n      <td>0.0</td>\n    </tr>\n    <tr>\n      <th>1100.0</th>\n      <td>120.0</td>\n      <td>0.0</td>\n    </tr>\n    <tr>\n      <th>1079.1</th>\n      <td>2.0</td>\n      <td>0.0</td>\n    </tr>\n    <tr>\n      <th>1071.3</th>\n      <td>10.0</td>\n      <td>0.0</td>\n    </tr>\n    <tr>\n      <th>1064.0</th>\n      <td>55.0</td>\n      <td>0.0</td>\n    </tr>\n    <tr>\n      <th>1050.1</th>\n      <td>5.0</td>\n      <td>0.0</td>\n    </tr>\n    <tr>\n      <th>1049.0</th>\n      <td>10.0</td>\n      <td>0.0</td>\n    </tr>\n    <tr>\n      <th>1000.0</th>\n      <td>100.0</td>\n      <td>0.0</td>\n    </tr>\n  </tbody>\n</table>\n</div>"
     },
     "metadata": {},
     "output_type": "display_data"
    },
    {
     "data": {
      "text/plain": "<Figure size 432x288 with 1 Axes>",
      "image/png": "[encoded data removed]"
     },
     "metadata": {},
     "output_type": "display_data"
    }
   ],
   "source": [
    "# чекаем случай со спердом\n",
    "bds, dom = get_spread_series(cnxn,\n",
    "                             security_code='YNDX',\n",
    "                             start_time='12:00:00',\n",
    "                             end_time='14:20:10',\n",
    "                             freq=1000*60)\n",
    "print(bds)\n",
    "print(dom.shape)\n",
    "display(dom)"
   ],
   "metadata": {
    "collapsed": false,
    "pycharm": {
     "name": "#%%\n"
    }
   }
  },
  {
   "cell_type": "code",
   "execution_count": 13,
   "outputs": [
    {
     "name": "stdout",
     "output_type": "stream",
     "text": [
      "YNDX 12:00:00 14:20:10\n",
      "12:00:00.000000 12:01:00.000000\n",
      "12:01:00.000000 12:02:00.000000\n",
      "12:02:00.000000 12:03:00.000000\n",
      "12:03:00.000000 12:04:00.000000\n",
      "12:04:00.000000 12:05:00.000000\n",
      "12:05:00.000000 12:06:00.000000\n",
      "12:06:00.000000 12:07:00.000000\n",
      "12:07:00.000000 12:08:00.000000\n",
      "12:08:00.000000 12:09:00.000000\n",
      "12:09:00.000000 12:10:00.000000\n",
      "12:10:00.000000 12:11:00.000000\n",
      "12:11:00.000000 12:12:00.000000\n",
      "12:12:00.000000 12:13:00.000000\n",
      "12:13:00.000000 12:14:00.000000\n",
      "12:14:00.000000 12:15:00.000000\n",
      "12:15:00.000000 12:16:00.000000\n",
      "12:16:00.000000 12:17:00.000000\n",
      "12:17:00.000000 12:18:00.000000\n",
      "12:18:00.000000 12:19:00.000000\n",
      "12:19:00.000000 12:20:00.000000\n",
      "12:20:00.000000 12:21:00.000000\n",
      "12:21:00.000000 12:22:00.000000\n",
      "12:22:00.000000 12:23:00.000000\n",
      "12:23:00.000000 12:24:00.000000\n",
      "12:24:00.000000 12:25:00.000000\n",
      "12:25:00.000000 12:26:00.000000\n",
      "12:26:00.000000 12:27:00.000000\n",
      "12:27:00.000000 12:28:00.000000\n",
      "12:28:00.000000 12:29:00.000000\n",
      "12:29:00.000000 12:30:00.000000\n",
      "12:30:00.000000 12:31:00.000000\n",
      "12:31:00.000000 12:32:00.000000\n",
      "12:32:00.000000 12:33:00.000000\n",
      "12:33:00.000000 12:34:00.000000\n",
      "12:34:00.000000 12:35:00.000000\n",
      "12:35:00.000000 12:36:00.000000\n",
      "12:36:00.000000 12:37:00.000000\n",
      "12:37:00.000000 12:38:00.000000\n",
      "12:38:00.000000 12:39:00.000000\n",
      "12:39:00.000000 12:40:00.000000\n",
      "12:40:00.000000 12:41:00.000000\n",
      "12:41:00.000000 12:42:00.000000\n",
      "12:42:00.000000 12:43:00.000000\n",
      "12:43:00.000000 12:44:00.000000\n",
      "12:44:00.000000 12:45:00.000000\n",
      "12:45:00.000000 12:46:00.000000\n",
      "12:46:00.000000 12:47:00.000000\n",
      "12:47:00.000000 12:48:00.000000\n",
      "12:48:00.000000 12:49:00.000000\n",
      "12:49:00.000000 12:50:00.000000\n",
      "12:50:00.000000 12:51:00.000000\n",
      "12:51:00.000000 12:52:00.000000\n",
      "12:52:00.000000 12:53:00.000000\n",
      "12:53:00.000000 12:54:00.000000\n",
      "12:54:00.000000 12:55:00.000000\n",
      "12:55:00.000000 12:56:00.000000\n",
      "12:56:00.000000 12:57:00.000000\n",
      "12:57:00.000000 12:58:00.000000\n",
      "12:58:00.000000 12:59:00.000000\n",
      "12:59:00.000000 13:00:00.000000\n",
      "13:00:00.000000 13:01:00.000000\n",
      "13:01:00.000000 13:02:00.000000\n",
      "13:02:00.000000 13:03:00.000000\n",
      "13:03:00.000000 13:04:00.000000\n",
      "13:04:00.000000 13:05:00.000000\n",
      "13:05:00.000000 13:06:00.000000\n",
      "13:06:00.000000 13:07:00.000000\n",
      "13:07:00.000000 13:08:00.000000\n",
      "13:08:00.000000 13:09:00.000000\n",
      "13:09:00.000000 13:10:00.000000\n",
      "13:10:00.000000 13:11:00.000000\n",
      "13:11:00.000000 13:12:00.000000\n",
      "13:12:00.000000 13:13:00.000000\n",
      "13:13:00.000000 13:14:00.000000\n",
      "13:14:00.000000 13:15:00.000000\n",
      "13:15:00.000000 13:16:00.000000\n",
      "13:16:00.000000 13:17:00.000000\n",
      "13:17:00.000000 13:18:00.000000\n",
      "13:18:00.000000 13:19:00.000000\n",
      "13:19:00.000000 13:20:00.000000\n",
      "13:20:00.000000 13:21:00.000000\n",
      "13:21:00.000000 13:22:00.000000\n",
      "13:22:00.000000 13:23:00.000000\n",
      "13:23:00.000000 13:24:00.000000\n",
      "13:24:00.000000 13:25:00.000000\n",
      "13:25:00.000000 13:26:00.000000\n",
      "13:26:00.000000 13:27:00.000000\n",
      "13:27:00.000000 13:28:00.000000\n",
      "13:28:00.000000 13:29:00.000000\n",
      "13:29:00.000000 13:30:00.000000\n",
      "13:30:00.000000 13:31:00.000000\n",
      "13:31:00.000000 13:32:00.000000\n",
      "13:32:00.000000 13:33:00.000000\n",
      "13:33:00.000000 13:34:00.000000\n",
      "13:34:00.000000 13:35:00.000000\n",
      "13:35:00.000000 13:36:00.000000\n",
      "13:36:00.000000 13:37:00.000000\n",
      "13:37:00.000000 13:38:00.000000\n",
      "13:38:00.000000 13:39:00.000000\n",
      "13:39:00.000000 13:40:00.000000\n",
      "13:40:00.000000 13:41:00.000000\n",
      "13:41:00.000000 13:42:00.000000\n",
      "13:42:00.000000 13:43:00.000000\n",
      "13:43:00.000000 13:44:00.000000\n",
      "13:44:00.000000 13:45:00.000000\n",
      "13:45:00.000000 13:46:00.000000\n",
      "13:46:00.000000 13:47:00.000000\n",
      "13:47:00.000000 13:48:00.000000\n",
      "13:48:00.000000 13:49:00.000000\n",
      "13:49:00.000000 13:50:00.000000\n",
      "13:50:00.000000 13:51:00.000000\n",
      "13:51:00.000000 13:52:00.000000\n",
      "13:52:00.000000 13:53:00.000000\n",
      "13:53:00.000000 13:54:00.000000\n",
      "13:54:00.000000 13:55:00.000000\n",
      "13:55:00.000000 13:56:00.000000\n",
      "13:56:00.000000 13:57:00.000000\n",
      "13:57:00.000000 13:58:00.000000\n",
      "13:58:00.000000 13:59:00.000000\n",
      "13:59:00.000000 14:00:00.000000\n",
      "14:00:00.000000 14:01:00.000000\n",
      "14:01:00.000000 14:02:00.000000\n",
      "14:02:00.000000 14:03:00.000000\n",
      "14:03:00.000000 14:04:00.000000\n",
      "14:04:00.000000 14:05:00.000000\n",
      "14:05:00.000000 14:06:00.000000\n",
      "14:06:00.000000 14:07:00.000000\n",
      "14:07:00.000000 14:08:00.000000\n",
      "14:08:00.000000 14:09:00.000000\n",
      "14:09:00.000000 14:10:00.000000\n",
      "14:10:00.000000 14:11:00.000000\n",
      "14:11:00.000000 14:12:00.000000\n",
      "14:12:00.000000 14:13:00.000000\n",
      "14:13:00.000000 14:14:00.000000\n",
      "14:14:00.000000 14:15:00.000000\n",
      "14:15:00.000000 14:16:00.000000\n",
      "14:16:00.000000 14:17:00.000000\n",
      "14:17:00.000000 14:18:00.000000\n",
      "14:18:00.000000 14:19:00.000000\n",
      "14:19:00.000000 14:20:00.000000\n",
      "14:20:00.000000 14:20:10.000000\n",
      "0.003163722646981401\n",
      "(88, 2)\n"
     ]
    },
    {
     "data": {
      "text/plain": "          buy   sell\nprice               \n1197.0    0.0   31.0\n1190.3    0.0    2.0\n1189.0    0.0    2.0\n1173.6    0.0   10.0\n1160.0    0.0   70.0\n1159.9    0.0  100.0\n1156.2    0.0    3.0\n1155.7    0.0    1.0\n1152.7    0.0    2.0\n1150.0    0.0  902.0\n1149.9    0.0  218.0\n1149.7    0.0  139.0\n1149.1    0.0   10.0\n1149.0    0.0   27.0\n1148.8    0.0   10.0\n1148.5    0.0   10.0\n1148.3    0.0  170.0\n1148.0    0.0    1.0\n1147.9    0.0  144.0\n1147.8    0.0   57.0\n1147.0    0.0    1.0\n1146.9    0.0    1.0\n1146.0    0.0    1.0\n1145.8    0.0  301.0\n1145.0    0.0   76.0\n1144.9    0.0   22.0\n1144.8    0.0   10.0\n1144.5    0.0  280.0\n1144.4    0.0    2.0\n1144.0    0.0  178.0\n1143.9    0.0    1.0\n1143.7    0.0   50.0\n1143.0    0.0    1.0\n1142.0    0.0    2.0\n1141.7    0.0  500.0\n1141.5    0.0    1.0\n1141.4    0.0  110.0\n1141.0    0.0  555.0\n1140.7    0.0   34.0\n1140.0    0.0  399.0\n1139.9    0.0   21.0\n1139.8    0.0    6.0\n1139.7    0.0    1.0\n1136.1  563.0    0.0\n1135.0   25.0    0.0\n1134.6    1.0    0.0\n1134.5  300.0    0.0\n1134.3   32.0    0.0\n1134.2   20.0    0.0\n1134.1   50.0    0.0\n1134.0   45.0    0.0\n1133.6   36.0    0.0\n1133.5  200.0    0.0\n1133.4   46.0    0.0\n1131.1   19.0    0.0\n1131.0   70.0    0.0\n1130.5  499.0    0.0\n1130.0    1.0    0.0\n1129.9  301.0    0.0\n1128.2   50.0    0.0\n1128.0    1.0    0.0\n1127.5   40.0    0.0\n1127.0  100.0    0.0\n1125.2    8.0    0.0\n1125.1  500.0    0.0\n1124.7  122.0    0.0\n1124.3    5.0    0.0\n1124.0  120.0    0.0\n1122.0    1.0    0.0\n1121.5    2.0    0.0\n1120.1  500.0    0.0\n1120.0    1.0    0.0\n1118.5    1.0    0.0\n1118.0   63.0    0.0\n1117.3  100.0    0.0\n1117.0    3.0    0.0\n1115.6    1.0    0.0\n1115.1  500.0    0.0\n1115.0   40.0    0.0\n1110.1  500.0    0.0\n1104.8   19.0    0.0\n1100.0  120.0    0.0\n1079.1    2.0    0.0\n1071.3   10.0    0.0\n1064.0   55.0    0.0\n1050.1    5.0    0.0\n1049.0   10.0    0.0\n1000.0  100.0    0.0",
      "text/html": "<div>\n<style scoped>\n    .dataframe tbody tr th:only-of-type {\n        vertical-align: middle;\n    }\n\n    .dataframe tbody tr th {\n        vertical-align: top;\n    }\n\n    .dataframe thead th {\n        text-align: right;\n    }\n</style>\n<table border=\"1\" class=\"dataframe\">\n  <thead>\n    <tr style=\"text-align: right;\">\n      <th></th>\n      <th>buy</th>\n      <th>sell</th>\n    </tr>\n    <tr>\n      <th>price</th>\n      <th></th>\n      <th></th>\n    </tr>\n  </thead>\n  <tbody>\n    <tr>\n      <th>1197.0</th>\n      <td>0.0</td>\n      <td>31.0</td>\n    </tr>\n    <tr>\n      <th>1190.3</th>\n      <td>0.0</td>\n      <td>2.0</td>\n    </tr>\n    <tr>\n      <th>1189.0</th>\n      <td>0.0</td>\n      <td>2.0</td>\n    </tr>\n    <tr>\n      <th>1173.6</th>\n      <td>0.0</td>\n      <td>10.0</td>\n    </tr>\n    <tr>\n      <th>1160.0</th>\n      <td>0.0</td>\n      <td>70.0</td>\n    </tr>\n    <tr>\n      <th>1159.9</th>\n      <td>0.0</td>\n      <td>100.0</td>\n    </tr>\n    <tr>\n      <th>1156.2</th>\n      <td>0.0</td>\n      <td>3.0</td>\n    </tr>\n    <tr>\n      <th>1155.7</th>\n      <td>0.0</td>\n      <td>1.0</td>\n    </tr>\n    <tr>\n      <th>1152.7</th>\n      <td>0.0</td>\n      <td>2.0</td>\n    </tr>\n    <tr>\n      <th>1150.0</th>\n      <td>0.0</td>\n      <td>902.0</td>\n    </tr>\n    <tr>\n      <th>1149.9</th>\n      <td>0.0</td>\n      <td>218.0</td>\n    </tr>\n    <tr>\n      <th>1149.7</th>\n      <td>0.0</td>\n      <td>139.0</td>\n    </tr>\n    <tr>\n      <th>1149.1</th>\n      <td>0.0</td>\n      <td>10.0</td>\n    </tr>\n    <tr>\n      <th>1149.0</th>\n      <td>0.0</td>\n      <td>27.0</td>\n    </tr>\n    <tr>\n      <th>1148.8</th>\n      <td>0.0</td>\n      <td>10.0</td>\n    </tr>\n    <tr>\n      <th>1148.5</th>\n      <td>0.0</td>\n      <td>10.0</td>\n    </tr>\n    <tr>\n      <th>1148.3</th>\n      <td>0.0</td>\n      <td>170.0</td>\n    </tr>\n    <tr>\n      <th>1148.0</th>\n      <td>0.0</td>\n      <td>1.0</td>\n    </tr>\n    <tr>\n      <th>1147.9</th>\n      <td>0.0</td>\n      <td>144.0</td>\n    </tr>\n    <tr>\n      <th>1147.8</th>\n      <td>0.0</td>\n      <td>57.0</td>\n    </tr>\n    <tr>\n      <th>1147.0</th>\n      <td>0.0</td>\n      <td>1.0</td>\n    </tr>\n    <tr>\n      <th>1146.9</th>\n      <td>0.0</td>\n      <td>1.0</td>\n    </tr>\n    <tr>\n      <th>1146.0</th>\n      <td>0.0</td>\n      <td>1.0</td>\n    </tr>\n    <tr>\n      <th>1145.8</th>\n      <td>0.0</td>\n      <td>301.0</td>\n    </tr>\n    <tr>\n      <th>1145.0</th>\n      <td>0.0</td>\n      <td>76.0</td>\n    </tr>\n    <tr>\n      <th>1144.9</th>\n      <td>0.0</td>\n      <td>22.0</td>\n    </tr>\n    <tr>\n      <th>1144.8</th>\n      <td>0.0</td>\n      <td>10.0</td>\n    </tr>\n    <tr>\n      <th>1144.5</th>\n      <td>0.0</td>\n      <td>280.0</td>\n    </tr>\n    <tr>\n      <th>1144.4</th>\n      <td>0.0</td>\n      <td>2.0</td>\n    </tr>\n    <tr>\n      <th>1144.0</th>\n      <td>0.0</td>\n      <td>178.0</td>\n    </tr>\n    <tr>\n      <th>1143.9</th>\n      <td>0.0</td>\n      <td>1.0</td>\n    </tr>\n    <tr>\n      <th>1143.7</th>\n      <td>0.0</td>\n      <td>50.0</td>\n    </tr>\n    <tr>\n      <th>1143.0</th>\n      <td>0.0</td>\n      <td>1.0</td>\n    </tr>\n    <tr>\n      <th>1142.0</th>\n      <td>0.0</td>\n      <td>2.0</td>\n    </tr>\n    <tr>\n      <th>1141.7</th>\n      <td>0.0</td>\n      <td>500.0</td>\n    </tr>\n    <tr>\n      <th>1141.5</th>\n      <td>0.0</td>\n      <td>1.0</td>\n    </tr>\n    <tr>\n      <th>1141.4</th>\n      <td>0.0</td>\n      <td>110.0</td>\n    </tr>\n    <tr>\n      <th>1141.0</th>\n      <td>0.0</td>\n      <td>555.0</td>\n    </tr>\n    <tr>\n      <th>1140.7</th>\n      <td>0.0</td>\n      <td>34.0</td>\n    </tr>\n    <tr>\n      <th>1140.0</th>\n      <td>0.0</td>\n      <td>399.0</td>\n    </tr>\n    <tr>\n      <th>1139.9</th>\n      <td>0.0</td>\n      <td>21.0</td>\n    </tr>\n    <tr>\n      <th>1139.8</th>\n      <td>0.0</td>\n      <td>6.0</td>\n    </tr>\n    <tr>\n      <th>1139.7</th>\n      <td>0.0</td>\n      <td>1.0</td>\n    </tr>\n    <tr>\n      <th>1136.1</th>\n      <td>563.0</td>\n      <td>0.0</td>\n    </tr>\n    <tr>\n      <th>1135.0</th>\n      <td>25.0</td>\n      <td>0.0</td>\n    </tr>\n    <tr>\n      <th>1134.6</th>\n      <td>1.0</td>\n      <td>0.0</td>\n    </tr>\n    <tr>\n      <th>1134.5</th>\n      <td>300.0</td>\n      <td>0.0</td>\n    </tr>\n    <tr>\n      <th>1134.3</th>\n      <td>32.0</td>\n      <td>0.0</td>\n    </tr>\n    <tr>\n      <th>1134.2</th>\n      <td>20.0</td>\n      <td>0.0</td>\n    </tr>\n    <tr>\n      <th>1134.1</th>\n      <td>50.0</td>\n      <td>0.0</td>\n    </tr>\n    <tr>\n      <th>1134.0</th>\n      <td>45.0</td>\n      <td>0.0</td>\n    </tr>\n    <tr>\n      <th>1133.6</th>\n      <td>36.0</td>\n      <td>0.0</td>\n    </tr>\n    <tr>\n      <th>1133.5</th>\n      <td>200.0</td>\n      <td>0.0</td>\n    </tr>\n    <tr>\n      <th>1133.4</th>\n      <td>46.0</td>\n      <td>0.0</td>\n    </tr>\n    <tr>\n      <th>1131.1</th>\n      <td>19.0</td>\n      <td>0.0</td>\n    </tr>\n    <tr>\n      <th>1131.0</th>\n      <td>70.0</td>\n      <td>0.0</td>\n    </tr>\n    <tr>\n      <th>1130.5</th>\n      <td>499.0</td>\n      <td>0.0</td>\n    </tr>\n    <tr>\n      <th>1130.0</th>\n      <td>1.0</td>\n      <td>0.0</td>\n    </tr>\n    <tr>\n      <th>1129.9</th>\n      <td>301.0</td>\n      <td>0.0</td>\n    </tr>\n    <tr>\n      <th>1128.2</th>\n      <td>50.0</td>\n      <td>0.0</td>\n    </tr>\n    <tr>\n      <th>1128.0</th>\n      <td>1.0</td>\n      <td>0.0</td>\n    </tr>\n    <tr>\n      <th>1127.5</th>\n      <td>40.0</td>\n      <td>0.0</td>\n    </tr>\n    <tr>\n      <th>1127.0</th>\n      <td>100.0</td>\n      <td>0.0</td>\n    </tr>\n    <tr>\n      <th>1125.2</th>\n      <td>8.0</td>\n      <td>0.0</td>\n    </tr>\n    <tr>\n      <th>1125.1</th>\n      <td>500.0</td>\n      <td>0.0</td>\n    </tr>\n    <tr>\n      <th>1124.7</th>\n      <td>122.0</td>\n      <td>0.0</td>\n    </tr>\n    <tr>\n      <th>1124.3</th>\n      <td>5.0</td>\n      <td>0.0</td>\n    </tr>\n    <tr>\n      <th>1124.0</th>\n      <td>120.0</td>\n      <td>0.0</td>\n    </tr>\n    <tr>\n      <th>1122.0</th>\n      <td>1.0</td>\n      <td>0.0</td>\n    </tr>\n    <tr>\n      <th>1121.5</th>\n      <td>2.0</td>\n      <td>0.0</td>\n    </tr>\n    <tr>\n      <th>1120.1</th>\n      <td>500.0</td>\n      <td>0.0</td>\n    </tr>\n    <tr>\n      <th>1120.0</th>\n      <td>1.0</td>\n      <td>0.0</td>\n    </tr>\n    <tr>\n      <th>1118.5</th>\n      <td>1.0</td>\n      <td>0.0</td>\n    </tr>\n    <tr>\n      <th>1118.0</th>\n      <td>63.0</td>\n      <td>0.0</td>\n    </tr>\n    <tr>\n      <th>1117.3</th>\n      <td>100.0</td>\n      <td>0.0</td>\n    </tr>\n    <tr>\n      <th>1117.0</th>\n      <td>3.0</td>\n      <td>0.0</td>\n    </tr>\n    <tr>\n      <th>1115.6</th>\n      <td>1.0</td>\n      <td>0.0</td>\n    </tr>\n    <tr>\n      <th>1115.1</th>\n      <td>500.0</td>\n      <td>0.0</td>\n    </tr>\n    <tr>\n      <th>1115.0</th>\n      <td>40.0</td>\n      <td>0.0</td>\n    </tr>\n    <tr>\n      <th>1110.1</th>\n      <td>500.0</td>\n      <td>0.0</td>\n    </tr>\n    <tr>\n      <th>1104.8</th>\n      <td>19.0</td>\n      <td>0.0</td>\n    </tr>\n    <tr>\n      <th>1100.0</th>\n      <td>120.0</td>\n      <td>0.0</td>\n    </tr>\n    <tr>\n      <th>1079.1</th>\n      <td>2.0</td>\n      <td>0.0</td>\n    </tr>\n    <tr>\n      <th>1071.3</th>\n      <td>10.0</td>\n      <td>0.0</td>\n    </tr>\n    <tr>\n      <th>1064.0</th>\n      <td>55.0</td>\n      <td>0.0</td>\n    </tr>\n    <tr>\n      <th>1050.1</th>\n      <td>5.0</td>\n      <td>0.0</td>\n    </tr>\n    <tr>\n      <th>1049.0</th>\n      <td>10.0</td>\n      <td>0.0</td>\n    </tr>\n    <tr>\n      <th>1000.0</th>\n      <td>100.0</td>\n      <td>0.0</td>\n    </tr>\n  </tbody>\n</table>\n</div>"
     },
     "metadata": {},
     "output_type": "display_data"
    },
    {
     "data": {
      "text/plain": "<Figure size 432x288 with 1 Axes>",
      "image/png": "[encoded data removed]"
     },
     "metadata": {},
     "output_type": "display_data"
    }
   ],
   "source": [
    "# чекаем случай со спердом\n",
    "bds, dom = get_spread_series(cnxn,\n",
    "                             security_code='YNDX',\n",
    "                             start_time='12:00:00',\n",
    "                             end_time='14:20:10',\n",
    "                             freq=1000*60)\n",
    "print(bds)\n",
    "print(dom.shape)\n",
    "display(dom)"
   ],
   "metadata": {
    "collapsed": false,
    "pycharm": {
     "name": "#%%\n"
    }
   }
  },
  {
   "cell_type": "code",
   "execution_count": 11,
   "outputs": [
    {
     "name": "stdout",
     "output_type": "stream",
     "text": [
      "YNDX 12:00:00 14:20:10\n",
      "0.003163722646981401\n",
      "(88, 2)\n"
     ]
    },
    {
     "data": {
      "text/plain": "          buy   sell\nprice               \n1197.0    0.0   31.0\n1190.3    0.0    2.0\n1189.0    0.0    2.0\n1173.6    0.0   10.0\n1160.0    0.0   70.0\n1159.9    0.0  100.0\n1156.2    0.0    3.0\n1155.7    0.0    1.0\n1152.7    0.0    2.0\n1150.0    0.0  902.0\n1149.9    0.0  218.0\n1149.7    0.0  139.0\n1149.1    0.0   10.0\n1149.0    0.0   27.0\n1148.8    0.0   10.0\n1148.5    0.0   10.0\n1148.3    0.0  170.0\n1148.0    0.0    1.0\n1147.9    0.0  144.0\n1147.8    0.0   57.0\n1147.0    0.0    1.0\n1146.9    0.0    1.0\n1146.0    0.0    1.0\n1145.8    0.0  301.0\n1145.0    0.0   76.0\n1144.9    0.0   22.0\n1144.8    0.0   10.0\n1144.5    0.0  280.0\n1144.4    0.0    2.0\n1144.0    0.0  178.0\n1143.9    0.0    1.0\n1143.7    0.0   50.0\n1143.0    0.0    1.0\n1142.0    0.0    2.0\n1141.7    0.0  500.0\n1141.5    0.0    1.0\n1141.4    0.0  110.0\n1141.0    0.0  555.0\n1140.7    0.0   34.0\n1140.0    0.0  399.0\n1139.9    0.0   21.0\n1139.8    0.0    6.0\n1139.7    0.0    1.0\n1136.1  563.0    0.0\n1135.0   25.0    0.0\n1134.6    1.0    0.0\n1134.5  300.0    0.0\n1134.3   32.0    0.0\n1134.2   20.0    0.0\n1134.1   50.0    0.0\n1134.0   45.0    0.0\n1133.6   36.0    0.0\n1133.5  200.0    0.0\n1133.4   46.0    0.0\n1131.1   19.0    0.0\n1131.0   70.0    0.0\n1130.5  499.0    0.0\n1130.0    1.0    0.0\n1129.9  301.0    0.0\n1128.2   50.0    0.0\n1128.0    1.0    0.0\n1127.5   40.0    0.0\n1127.0  100.0    0.0\n1125.2    8.0    0.0\n1125.1  500.0    0.0\n1124.7  122.0    0.0\n1124.3    5.0    0.0\n1124.0  120.0    0.0\n1122.0    1.0    0.0\n1121.5    2.0    0.0\n1120.1  500.0    0.0\n1120.0    1.0    0.0\n1118.5    1.0    0.0\n1118.0   63.0    0.0\n1117.3  100.0    0.0\n1117.0    3.0    0.0\n1115.6    1.0    0.0\n1115.1  500.0    0.0\n1115.0   40.0    0.0\n1110.1  500.0    0.0\n1104.8   19.0    0.0\n1100.0  120.0    0.0\n1079.1    2.0    0.0\n1071.3   10.0    0.0\n1064.0   55.0    0.0\n1050.1    5.0    0.0\n1049.0   10.0    0.0\n1000.0  100.0    0.0",
      "text/html": "<div>\n<style scoped>\n    .dataframe tbody tr th:only-of-type {\n        vertical-align: middle;\n    }\n\n    .dataframe tbody tr th {\n        vertical-align: top;\n    }\n\n    .dataframe thead th {\n        text-align: right;\n    }\n</style>\n<table border=\"1\" class=\"dataframe\">\n  <thead>\n    <tr style=\"text-align: right;\">\n      <th></th>\n      <th>buy</th>\n      <th>sell</th>\n    </tr>\n    <tr>\n      <th>price</th>\n      <th></th>\n      <th></th>\n    </tr>\n  </thead>\n  <tbody>\n    <tr>\n      <th>1197.0</th>\n      <td>0.0</td>\n      <td>31.0</td>\n    </tr>\n    <tr>\n      <th>1190.3</th>\n      <td>0.0</td>\n      <td>2.0</td>\n    </tr>\n    <tr>\n      <th>1189.0</th>\n      <td>0.0</td>\n      <td>2.0</td>\n    </tr>\n    <tr>\n      <th>1173.6</th>\n      <td>0.0</td>\n      <td>10.0</td>\n    </tr>\n    <tr>\n      <th>1160.0</th>\n      <td>0.0</td>\n      <td>70.0</td>\n    </tr>\n    <tr>\n      <th>1159.9</th>\n      <td>0.0</td>\n      <td>100.0</td>\n    </tr>\n    <tr>\n      <th>1156.2</th>\n      <td>0.0</td>\n      <td>3.0</td>\n    </tr>\n    <tr>\n      <th>1155.7</th>\n      <td>0.0</td>\n      <td>1.0</td>\n    </tr>\n    <tr>\n      <th>1152.7</th>\n      <td>0.0</td>\n      <td>2.0</td>\n    </tr>\n    <tr>\n      <th>1150.0</th>\n      <td>0.0</td>\n      <td>902.0</td>\n    </tr>\n    <tr>\n      <th>1149.9</th>\n      <td>0.0</td>\n      <td>218.0</td>\n    </tr>\n    <tr>\n      <th>1149.7</th>\n      <td>0.0</td>\n      <td>139.0</td>\n    </tr>\n    <tr>\n      <th>1149.1</th>\n      <td>0.0</td>\n      <td>10.0</td>\n    </tr>\n    <tr>\n      <th>1149.0</th>\n      <td>0.0</td>\n      <td>27.0</td>\n    </tr>\n    <tr>\n      <th>1148.8</th>\n      <td>0.0</td>\n      <td>10.0</td>\n    </tr>\n    <tr>\n      <th>1148.5</th>\n      <td>0.0</td>\n      <td>10.0</td>\n    </tr>\n    <tr>\n      <th>1148.3</th>\n      <td>0.0</td>\n      <td>170.0</td>\n    </tr>\n    <tr>\n      <th>1148.0</th>\n      <td>0.0</td>\n      <td>1.0</td>\n    </tr>\n    <tr>\n      <th>1147.9</th>\n      <td>0.0</td>\n      <td>144.0</td>\n    </tr>\n    <tr>\n      <th>1147.8</th>\n      <td>0.0</td>\n      <td>57.0</td>\n    </tr>\n    <tr>\n      <th>1147.0</th>\n      <td>0.0</td>\n      <td>1.0</td>\n    </tr>\n    <tr>\n      <th>1146.9</th>\n      <td>0.0</td>\n      <td>1.0</td>\n    </tr>\n    <tr>\n      <th>1146.0</th>\n      <td>0.0</td>\n      <td>1.0</td>\n    </tr>\n    <tr>\n      <th>1145.8</th>\n      <td>0.0</td>\n      <td>301.0</td>\n    </tr>\n    <tr>\n      <th>1145.0</th>\n      <td>0.0</td>\n      <td>76.0</td>\n    </tr>\n    <tr>\n      <th>1144.9</th>\n      <td>0.0</td>\n      <td>22.0</td>\n    </tr>\n    <tr>\n      <th>1144.8</th>\n      <td>0.0</td>\n      <td>10.0</td>\n    </tr>\n    <tr>\n      <th>1144.5</th>\n      <td>0.0</td>\n      <td>280.0</td>\n    </tr>\n    <tr>\n      <th>1144.4</th>\n      <td>0.0</td>\n      <td>2.0</td>\n    </tr>\n    <tr>\n      <th>1144.0</th>\n      <td>0.0</td>\n      <td>178.0</td>\n    </tr>\n    <tr>\n      <th>1143.9</th>\n      <td>0.0</td>\n      <td>1.0</td>\n    </tr>\n    <tr>\n      <th>1143.7</th>\n      <td>0.0</td>\n      <td>50.0</td>\n    </tr>\n    <tr>\n      <th>1143.0</th>\n      <td>0.0</td>\n      <td>1.0</td>\n    </tr>\n    <tr>\n      <th>1142.0</th>\n      <td>0.0</td>\n      <td>2.0</td>\n    </tr>\n    <tr>\n      <th>1141.7</th>\n      <td>0.0</td>\n      <td>500.0</td>\n    </tr>\n    <tr>\n      <th>1141.5</th>\n      <td>0.0</td>\n      <td>1.0</td>\n    </tr>\n    <tr>\n      <th>1141.4</th>\n      <td>0.0</td>\n      <td>110.0</td>\n    </tr>\n    <tr>\n      <th>1141.0</th>\n      <td>0.0</td>\n      <td>555.0</td>\n    </tr>\n    <tr>\n      <th>1140.7</th>\n      <td>0.0</td>\n      <td>34.0</td>\n    </tr>\n    <tr>\n      <th>1140.0</th>\n      <td>0.0</td>\n      <td>399.0</td>\n    </tr>\n    <tr>\n      <th>1139.9</th>\n      <td>0.0</td>\n      <td>21.0</td>\n    </tr>\n    <tr>\n      <th>1139.8</th>\n      <td>0.0</td>\n      <td>6.0</td>\n    </tr>\n    <tr>\n      <th>1139.7</th>\n      <td>0.0</td>\n      <td>1.0</td>\n    </tr>\n    <tr>\n      <th>1136.1</th>\n      <td>563.0</td>\n      <td>0.0</td>\n    </tr>\n    <tr>\n      <th>1135.0</th>\n      <td>25.0</td>\n      <td>0.0</td>\n    </tr>\n    <tr>\n      <th>1134.6</th>\n      <td>1.0</td>\n      <td>0.0</td>\n    </tr>\n    <tr>\n      <th>1134.5</th>\n      <td>300.0</td>\n      <td>0.0</td>\n    </tr>\n    <tr>\n      <th>1134.3</th>\n      <td>32.0</td>\n      <td>0.0</td>\n    </tr>\n    <tr>\n      <th>1134.2</th>\n      <td>20.0</td>\n      <td>0.0</td>\n    </tr>\n    <tr>\n      <th>1134.1</th>\n      <td>50.0</td>\n      <td>0.0</td>\n    </tr>\n    <tr>\n      <th>1134.0</th>\n      <td>45.0</td>\n      <td>0.0</td>\n    </tr>\n    <tr>\n      <th>1133.6</th>\n      <td>36.0</td>\n      <td>0.0</td>\n    </tr>\n    <tr>\n      <th>1133.5</th>\n      <td>200.0</td>\n      <td>0.0</td>\n    </tr>\n    <tr>\n      <th>1133.4</th>\n      <td>46.0</td>\n      <td>0.0</td>\n    </tr>\n    <tr>\n      <th>1131.1</th>\n      <td>19.0</td>\n      <td>0.0</td>\n    </tr>\n    <tr>\n      <th>1131.0</th>\n      <td>70.0</td>\n      <td>0.0</td>\n    </tr>\n    <tr>\n      <th>1130.5</th>\n      <td>499.0</td>\n      <td>0.0</td>\n    </tr>\n    <tr>\n      <th>1130.0</th>\n      <td>1.0</td>\n      <td>0.0</td>\n    </tr>\n    <tr>\n      <th>1129.9</th>\n      <td>301.0</td>\n      <td>0.0</td>\n    </tr>\n    <tr>\n      <th>1128.2</th>\n      <td>50.0</td>\n      <td>0.0</td>\n    </tr>\n    <tr>\n      <th>1128.0</th>\n      <td>1.0</td>\n      <td>0.0</td>\n    </tr>\n    <tr>\n      <th>1127.5</th>\n      <td>40.0</td>\n      <td>0.0</td>\n    </tr>\n    <tr>\n      <th>1127.0</th>\n      <td>100.0</td>\n      <td>0.0</td>\n    </tr>\n    <tr>\n      <th>1125.2</th>\n      <td>8.0</td>\n      <td>0.0</td>\n    </tr>\n    <tr>\n      <th>1125.1</th>\n      <td>500.0</td>\n      <td>0.0</td>\n    </tr>\n    <tr>\n      <th>1124.7</th>\n      <td>122.0</td>\n      <td>0.0</td>\n    </tr>\n    <tr>\n      <th>1124.3</th>\n      <td>5.0</td>\n      <td>0.0</td>\n    </tr>\n    <tr>\n      <th>1124.0</th>\n      <td>120.0</td>\n      <td>0.0</td>\n    </tr>\n    <tr>\n      <th>1122.0</th>\n      <td>1.0</td>\n      <td>0.0</td>\n    </tr>\n    <tr>\n      <th>1121.5</th>\n      <td>2.0</td>\n      <td>0.0</td>\n    </tr>\n    <tr>\n      <th>1120.1</th>\n      <td>500.0</td>\n      <td>0.0</td>\n    </tr>\n    <tr>\n      <th>1120.0</th>\n      <td>1.0</td>\n      <td>0.0</td>\n    </tr>\n    <tr>\n      <th>1118.5</th>\n      <td>1.0</td>\n      <td>0.0</td>\n    </tr>\n    <tr>\n      <th>1118.0</th>\n      <td>63.0</td>\n      <td>0.0</td>\n    </tr>\n    <tr>\n      <th>1117.3</th>\n      <td>100.0</td>\n      <td>0.0</td>\n    </tr>\n    <tr>\n      <th>1117.0</th>\n      <td>3.0</td>\n      <td>0.0</td>\n    </tr>\n    <tr>\n      <th>1115.6</th>\n      <td>1.0</td>\n      <td>0.0</td>\n    </tr>\n    <tr>\n      <th>1115.1</th>\n      <td>500.0</td>\n      <td>0.0</td>\n    </tr>\n    <tr>\n      <th>1115.0</th>\n      <td>40.0</td>\n      <td>0.0</td>\n    </tr>\n    <tr>\n      <th>1110.1</th>\n      <td>500.0</td>\n      <td>0.0</td>\n    </tr>\n    <tr>\n      <th>1104.8</th>\n      <td>19.0</td>\n      <td>0.0</td>\n    </tr>\n    <tr>\n      <th>1100.0</th>\n      <td>120.0</td>\n      <td>0.0</td>\n    </tr>\n    <tr>\n      <th>1079.1</th>\n      <td>2.0</td>\n      <td>0.0</td>\n    </tr>\n    <tr>\n      <th>1071.3</th>\n      <td>10.0</td>\n      <td>0.0</td>\n    </tr>\n    <tr>\n      <th>1064.0</th>\n      <td>55.0</td>\n      <td>0.0</td>\n    </tr>\n    <tr>\n      <th>1050.1</th>\n      <td>5.0</td>\n      <td>0.0</td>\n    </tr>\n    <tr>\n      <th>1049.0</th>\n      <td>10.0</td>\n      <td>0.0</td>\n    </tr>\n    <tr>\n      <th>1000.0</th>\n      <td>100.0</td>\n      <td>0.0</td>\n    </tr>\n  </tbody>\n</table>\n</div>"
     },
     "metadata": {},
     "output_type": "display_data"
    }
   ],
   "source": [
    "# случай для особо умных, которые решили задать время и нулевую частоту\n",
    "bds, dom = get_spread_series(cnxn,\n",
    "                  security_code='YNDX',\n",
    "                  start_time='12:00:00',\n",
    "                  end_time='14:20:10',\n",
    "                  freq=0)\n",
    "print(bds)\n",
    "print(dom.shape)\n",
    "display(dom)"
   ],
   "metadata": {
    "collapsed": false,
    "pycharm": {
     "name": "#%%\n"
    }
   }
  },
  {
   "cell_type": "code",
   "execution_count": null,
   "outputs": [],
   "source": [],
   "metadata": {
    "collapsed": false,
    "pycharm": {
     "name": "#%%\n"
    }
   }
  }
 ],
 "metadata": {
  "kernelspec": {
   "display_name": "Python 3",
   "language": "python",
   "name": "python3"
  },
  "language_info": {
   "codemirror_mode": {
    "name": "ipython",
    "version": 2
   },
   "file_extension": ".py",
   "mimetype": "text/x-python",
   "name": "python",
   "nbconvert_exporter": "python",
   "pygments_lexer": "ipython2",
   "version": "2.7.6"
  }
 },
 "nbformat": 4,
 "nbformat_minor": 0
}