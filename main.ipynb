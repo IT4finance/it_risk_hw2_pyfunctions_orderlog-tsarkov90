{
 "cells": [
  {
   "cell_type": "markdown",
   "metadata": {
    "collapsed": true,
    "pycharm": {
     "name": "#%% md\n"
    }
   },
   "source": [
    "Установка нужных библиотек"
   ]
  },
  {
   "cell_type": "code",
   "execution_count": null,
   "outputs": [],
   "source": [
    "pip install psycopg2-binary\n",
    "pip install pandas\n",
    "pip install numpy\n",
    "pip install matplotlib"
   ],
   "metadata": {
    "collapsed": false,
    "pycharm": {
     "name": "#%%\n"
    }
   }
  },
  {
   "cell_type": "markdown",
   "source": [
    "Импорт библиотек\n"
   ],
   "metadata": {
    "collapsed": false,
    "pycharm": {
     "name": "#%% md\n"
    }
   }
  },
  {
   "cell_type": "code",
   "execution_count": 1,
   "outputs": [],
   "source": [
    "import pandas as pd\n",
    "import numpy as np\n",
    "import matplotlib.pyplot as plt\n",
    "import psycopg2\n",
    "import time\n",
    "import seaborn as sns # seaborn - надстройка над pyplot (она необязателена)\n",
    "\n",
    "import it4fin_functions as it4fin # мои функции выделенные в отдельный модуль"
   ],
   "metadata": {
    "collapsed": false,
    "pycharm": {
     "name": "#%%\n"
    }
   }
  },
  {
   "cell_type": "code",
   "execution_count": null,
   "outputs": [],
   "source": [
    "# настройка для pandas для отображения всех строк и колонок\n",
    "pd.set_option('display.max_columns', None)\n",
    "pd.set_option('display.max_rows', None)\n",
    "\n",
    "sns.set() # делаем графики более красивыми через seaborn\n"
   ],
   "metadata": {
    "collapsed": false,
    "pycharm": {
     "name": "#%%\n"
    }
   }
  },
  {
   "cell_type": "markdown",
   "source": [
    "Создание соединения с бд"
   ],
   "metadata": {
    "collapsed": false,
    "pycharm": {
     "name": "#%% md\n"
    }
   }
  },
  {
   "cell_type": "code",
   "execution_count": 3,
   "outputs": [
    {
     "name": "stdout",
     "output_type": "stream",
     "text": [
      "{'user': 'postgres', 'channel_binding': 'prefer', 'dbname': 'postgres', 'host': 'localhost', 'port': '5432', 'options': '', 'sslmode': 'prefer', 'sslcompression': '0', 'sslsni': '1', 'ssl_min_protocol_version': 'TLSv1.2', 'gssencmode': 'disable', 'krbsrvname': 'postgres', 'target_session_attrs': 'any'}\n"
     ]
    },
    {
     "data": {
      "text/plain": "        no security_code buysell  order_no  action   price  volume trade_no  \\\n0  3672830          TATN       B   1806907       1  348.25    5930     None   \n\n  trade_price       order_time  \n0        None  11:20:05.275000  ",
      "text/html": "<div>\n<style scoped>\n    .dataframe tbody tr th:only-of-type {\n        vertical-align: middle;\n    }\n\n    .dataframe tbody tr th {\n        vertical-align: top;\n    }\n\n    .dataframe thead th {\n        text-align: right;\n    }\n</style>\n<table border=\"1\" class=\"dataframe\">\n  <thead>\n    <tr style=\"text-align: right;\">\n      <th></th>\n      <th>no</th>\n      <th>security_code</th>\n      <th>buysell</th>\n      <th>order_no</th>\n      <th>action</th>\n      <th>price</th>\n      <th>volume</th>\n      <th>trade_no</th>\n      <th>trade_price</th>\n      <th>order_time</th>\n    </tr>\n  </thead>\n  <tbody>\n    <tr>\n      <th>0</th>\n      <td>3672830</td>\n      <td>TATN</td>\n      <td>B</td>\n      <td>1806907</td>\n      <td>1</td>\n      <td>348.25</td>\n      <td>5930</td>\n      <td>None</td>\n      <td>None</td>\n      <td>11:20:05.275000</td>\n    </tr>\n  </tbody>\n</table>\n</div>"
     },
     "execution_count": 3,
     "metadata": {},
     "output_type": "execute_result"
    }
   ],
   "source": [
    "cnxn = psycopg2.connect(user='postgres',\n",
    "                        database='postgres',\n",
    "                        host='localhost',\n",
    "                        port='5432',\n",
    "                        password='12345')\n",
    "print(cnxn.get_dsn_parameters())\n",
    "# проверочный запрос\n",
    "pd.read_sql_query(\"SELECT * FROM stock_orders LIMIT 1\", cnxn)"
   ],
   "metadata": {
    "collapsed": false,
    "pycharm": {
     "name": "#%%\n"
    }
   }
  },
  {
   "cell_type": "code",
   "execution_count": null,
   "outputs": [],
   "source": [
    "def get_spread_series(cnxn, security_code, end_time, start_time='0:00:00', freq=0):\n",
    "    '''\n",
    "    Основная фцнкция для выполнения дз\n",
    "\n",
    "    :param cnxn: соединение с базой данных\n",
    "    :param security_code: тикер для ценной бумаги, например, 'AFLT'\n",
    "    :param start_time: (optional) начало временного интервала, в формате 'HH:MI:SS.mss'\n",
    "    :param end_time: конец временного интервала в том же формате\n",
    "    :param freq: (optional), частота в миллисекундах\n",
    "\n",
    "    :returns: `DataFrame`, определяющий биржевой стакан для ценной бумаги (buy volume - price - sell volume) и бид аск спред как `int` в слyчае заданы только `end_time` и `security_code` . Если, в добавок, даны `start_time` и `freq` то так же возвращает `Series` бид-аск спредов для временного интервала между `start_time` и `end_time`\n",
    "\n",
    "    '''\n",
    "\n",
    "    # считываем шаблон запроса для получения таблицы\n",
    "    with open('template.sql', 'r', encoding='utf-8') as f:\n",
    "        query_template = f.read()\n",
    "\n",
    "\n",
    "\n",
    "    print(query_template)\n",
    "\n",
    "    pass"
   ],
   "metadata": {
    "collapsed": false,
    "pycharm": {
     "name": "#%%\n"
    }
   }
  },
  {
   "cell_type": "code",
   "execution_count": null,
   "outputs": [],
   "source": [
    "get_spread_series(cnxn, security_code='YNDX', end_time='12:00:00')"
   ],
   "metadata": {
    "collapsed": false,
    "pycharm": {
     "name": "#%%\n"
    }
   }
  },
  {
   "cell_type": "code",
   "execution_count": null,
   "outputs": [],
   "source": [
    "# читаем шаблон для получения таблицы\n",
    "with open('template.sql', 'r', encoding='utf-8') as f:\n",
    "    query_template = f.read()"
   ],
   "metadata": {
    "collapsed": false,
    "pycharm": {
     "name": "#%%\n"
    }
   }
  },
  {
   "cell_type": "code",
   "execution_count": 5,
   "outputs": [
    {
     "data": {
      "text/plain": "     buysell  order_no   price  remaining_volume\n0          B       192  1088.8               0.0\n1          B      1472  1050.1               0.0\n2          B      1473  1050.1               5.0\n3          B      1491  1066.6               0.0\n4          B      1674  1090.0             300.0\n...      ...       ...     ...               ...\n3864       S   2503055  1133.9               0.0\n3865       S   2505181  1190.3               2.0\n3866       S   2508530  1133.5              25.0\n3867       S   2509525  1130.0               0.0\n3868       S   2509527  1133.5               2.0\n\n[3869 rows x 4 columns]",
      "text/html": "<div>\n<style scoped>\n    .dataframe tbody tr th:only-of-type {\n        vertical-align: middle;\n    }\n\n    .dataframe tbody tr th {\n        vertical-align: top;\n    }\n\n    .dataframe thead th {\n        text-align: right;\n    }\n</style>\n<table border=\"1\" class=\"dataframe\">\n  <thead>\n    <tr style=\"text-align: right;\">\n      <th></th>\n      <th>buysell</th>\n      <th>order_no</th>\n      <th>price</th>\n      <th>remaining_volume</th>\n    </tr>\n  </thead>\n  <tbody>\n    <tr>\n      <th>0</th>\n      <td>B</td>\n      <td>192</td>\n      <td>1088.8</td>\n      <td>0.0</td>\n    </tr>\n    <tr>\n      <th>1</th>\n      <td>B</td>\n      <td>1472</td>\n      <td>1050.1</td>\n      <td>0.0</td>\n    </tr>\n    <tr>\n      <th>2</th>\n      <td>B</td>\n      <td>1473</td>\n      <td>1050.1</td>\n      <td>5.0</td>\n    </tr>\n    <tr>\n      <th>3</th>\n      <td>B</td>\n      <td>1491</td>\n      <td>1066.6</td>\n      <td>0.0</td>\n    </tr>\n    <tr>\n      <th>4</th>\n      <td>B</td>\n      <td>1674</td>\n      <td>1090.0</td>\n      <td>300.0</td>\n    </tr>\n    <tr>\n      <th>...</th>\n      <td>...</td>\n      <td>...</td>\n      <td>...</td>\n      <td>...</td>\n    </tr>\n    <tr>\n      <th>3864</th>\n      <td>S</td>\n      <td>2503055</td>\n      <td>1133.9</td>\n      <td>0.0</td>\n    </tr>\n    <tr>\n      <th>3865</th>\n      <td>S</td>\n      <td>2505181</td>\n      <td>1190.3</td>\n      <td>2.0</td>\n    </tr>\n    <tr>\n      <th>3866</th>\n      <td>S</td>\n      <td>2508530</td>\n      <td>1133.5</td>\n      <td>25.0</td>\n    </tr>\n    <tr>\n      <th>3867</th>\n      <td>S</td>\n      <td>2509525</td>\n      <td>1130.0</td>\n      <td>0.0</td>\n    </tr>\n    <tr>\n      <th>3868</th>\n      <td>S</td>\n      <td>2509527</td>\n      <td>1133.5</td>\n      <td>2.0</td>\n    </tr>\n  </tbody>\n</table>\n<p>3869 rows × 4 columns</p>\n</div>"
     },
     "execution_count": 5,
     "metadata": {},
     "output_type": "execute_result"
    }
   ],
   "source": [
    "security_code = 'YNDX'\n",
    "start_time = '12:00:00' # default\n",
    "end_time = '14:00:00'\n",
    "freq = 0 # default\n",
    "\n",
    "\n",
    "# обработка дефолтного случая задания функции\n",
    "if start_time == '0:00:00' and freq == 0:\n",
    "    query = query_template.format(security_code=security_code,\n",
    "                                  time1=start_time,\n",
    "                                  time2=end_time)\n",
    "else: # иначе сначала обработаем таблицу до start_time а потом начнется самое интересное\n",
    "    query = query_template.format(security_code=security_code,\n",
    "                                  time1='0:00:00',\n",
    "                                  time2=start_time)\n",
    "\n",
    "# print(query)\n",
    "\n",
    "raw = pd.read_sql_query(query, cnxn)\n",
    "raw"
   ],
   "metadata": {
    "collapsed": false,
    "pycharm": {
     "name": "#%%\n"
    }
   }
  },
  {
   "cell_type": "code",
   "execution_count": 9,
   "outputs": [
    {
     "data": {
      "text/plain": "          buy    sell\nprice                \n1222.9    0.0   100.0\n1195.0    0.0     1.0\n1190.3    0.0     2.0\n1189.0    0.0     2.0\n1160.0    0.0    50.0\n1159.3    0.0     1.0\n1152.7    0.0     2.0\n1150.5    0.0     1.0\n1150.0    0.0  1039.0\n1149.9    0.0   117.0\n1149.7    0.0   139.0\n1149.0    0.0    81.0\n1148.3    0.0   170.0\n1147.9    0.0     2.0\n1145.0    0.0     6.0\n1144.9    0.0    60.0\n1144.8    0.0    10.0\n1144.5    0.0   280.0\n1144.4    0.0     1.0\n1144.0    0.0    26.0\n1142.9    0.0    73.0\n1141.5    0.0     1.0\n1140.7    0.0     1.0\n1140.0    0.0    37.0\n1139.9    0.0   147.0\n1139.8    0.0    32.0\n1139.0    0.0    89.0\n1138.9    0.0     5.0\n1138.8    0.0    10.0\n1138.7    0.0    30.0\n1138.0    0.0     1.0\n1137.0    0.0    53.0\n1136.0    0.0     1.0\n1135.7    0.0    50.0\n1135.0    0.0    53.0\n1134.3    0.0     1.0\n1134.0    0.0   344.0\n1133.7    0.0    97.0\n1133.6    0.0    20.0\n1133.5    0.0    27.0\n1130.7    4.0     0.0\n1130.6   26.0     0.0\n1130.5  514.0     0.0\n1130.0   60.0     0.0\n1128.2   50.0     0.0\n1128.1  600.0     0.0\n1128.0    1.0     0.0\n1126.1   65.0     0.0\n1125.0  250.0     0.0\n1124.7  122.0     0.0\n1124.3   40.0     0.0\n1124.2   10.0     0.0\n1124.0  120.0     0.0\n1123.8  100.0     0.0\n1122.0    1.0     0.0\n1121.5    2.0     0.0\n1120.1  500.0     0.0\n1118.0  305.0     0.0\n1117.3  100.0     0.0\n1117.0    3.0     0.0\n1115.1  500.0     0.0\n1115.0   40.0     0.0\n1111.0  100.0     0.0\n1110.1  500.0     0.0\n1100.0  132.0     0.0\n1090.3    5.0     0.0\n1090.1    5.0     0.0\n1090.0  301.0     0.0\n1079.1    2.0     0.0\n1075.9    1.0     0.0\n1071.3   10.0     0.0\n1064.0   55.0     0.0\n1050.9    1.0     0.0\n1050.2    1.0     0.0\n1050.1    5.0     0.0\n1049.0   10.0     0.0\n1023.0    1.0     0.0\n1000.0  600.0     0.0",
      "text/html": "<div>\n<style scoped>\n    .dataframe tbody tr th:only-of-type {\n        vertical-align: middle;\n    }\n\n    .dataframe tbody tr th {\n        vertical-align: top;\n    }\n\n    .dataframe thead th {\n        text-align: right;\n    }\n</style>\n<table border=\"1\" class=\"dataframe\">\n  <thead>\n    <tr style=\"text-align: right;\">\n      <th></th>\n      <th>buy</th>\n      <th>sell</th>\n    </tr>\n    <tr>\n      <th>price</th>\n      <th></th>\n      <th></th>\n    </tr>\n  </thead>\n  <tbody>\n    <tr>\n      <th>1222.9</th>\n      <td>0.0</td>\n      <td>100.0</td>\n    </tr>\n    <tr>\n      <th>1195.0</th>\n      <td>0.0</td>\n      <td>1.0</td>\n    </tr>\n    <tr>\n      <th>1190.3</th>\n      <td>0.0</td>\n      <td>2.0</td>\n    </tr>\n    <tr>\n      <th>1189.0</th>\n      <td>0.0</td>\n      <td>2.0</td>\n    </tr>\n    <tr>\n      <th>1160.0</th>\n      <td>0.0</td>\n      <td>50.0</td>\n    </tr>\n    <tr>\n      <th>1159.3</th>\n      <td>0.0</td>\n      <td>1.0</td>\n    </tr>\n    <tr>\n      <th>1152.7</th>\n      <td>0.0</td>\n      <td>2.0</td>\n    </tr>\n    <tr>\n      <th>1150.5</th>\n      <td>0.0</td>\n      <td>1.0</td>\n    </tr>\n    <tr>\n      <th>1150.0</th>\n      <td>0.0</td>\n      <td>1039.0</td>\n    </tr>\n    <tr>\n      <th>1149.9</th>\n      <td>0.0</td>\n      <td>117.0</td>\n    </tr>\n    <tr>\n      <th>1149.7</th>\n      <td>0.0</td>\n      <td>139.0</td>\n    </tr>\n    <tr>\n      <th>1149.0</th>\n      <td>0.0</td>\n      <td>81.0</td>\n    </tr>\n    <tr>\n      <th>1148.3</th>\n      <td>0.0</td>\n      <td>170.0</td>\n    </tr>\n    <tr>\n      <th>1147.9</th>\n      <td>0.0</td>\n      <td>2.0</td>\n    </tr>\n    <tr>\n      <th>1145.0</th>\n      <td>0.0</td>\n      <td>6.0</td>\n    </tr>\n    <tr>\n      <th>1144.9</th>\n      <td>0.0</td>\n      <td>60.0</td>\n    </tr>\n    <tr>\n      <th>1144.8</th>\n      <td>0.0</td>\n      <td>10.0</td>\n    </tr>\n    <tr>\n      <th>1144.5</th>\n      <td>0.0</td>\n      <td>280.0</td>\n    </tr>\n    <tr>\n      <th>1144.4</th>\n      <td>0.0</td>\n      <td>1.0</td>\n    </tr>\n    <tr>\n      <th>1144.0</th>\n      <td>0.0</td>\n      <td>26.0</td>\n    </tr>\n    <tr>\n      <th>1142.9</th>\n      <td>0.0</td>\n      <td>73.0</td>\n    </tr>\n    <tr>\n      <th>1141.5</th>\n      <td>0.0</td>\n      <td>1.0</td>\n    </tr>\n    <tr>\n      <th>1140.7</th>\n      <td>0.0</td>\n      <td>1.0</td>\n    </tr>\n    <tr>\n      <th>1140.0</th>\n      <td>0.0</td>\n      <td>37.0</td>\n    </tr>\n    <tr>\n      <th>1139.9</th>\n      <td>0.0</td>\n      <td>147.0</td>\n    </tr>\n    <tr>\n      <th>1139.8</th>\n      <td>0.0</td>\n      <td>32.0</td>\n    </tr>\n    <tr>\n      <th>1139.0</th>\n      <td>0.0</td>\n      <td>89.0</td>\n    </tr>\n    <tr>\n      <th>1138.9</th>\n      <td>0.0</td>\n      <td>5.0</td>\n    </tr>\n    <tr>\n      <th>1138.8</th>\n      <td>0.0</td>\n      <td>10.0</td>\n    </tr>\n    <tr>\n      <th>1138.7</th>\n      <td>0.0</td>\n      <td>30.0</td>\n    </tr>\n    <tr>\n      <th>1138.0</th>\n      <td>0.0</td>\n      <td>1.0</td>\n    </tr>\n    <tr>\n      <th>1137.0</th>\n      <td>0.0</td>\n      <td>53.0</td>\n    </tr>\n    <tr>\n      <th>1136.0</th>\n      <td>0.0</td>\n      <td>1.0</td>\n    </tr>\n    <tr>\n      <th>1135.7</th>\n      <td>0.0</td>\n      <td>50.0</td>\n    </tr>\n    <tr>\n      <th>1135.0</th>\n      <td>0.0</td>\n      <td>53.0</td>\n    </tr>\n    <tr>\n      <th>1134.3</th>\n      <td>0.0</td>\n      <td>1.0</td>\n    </tr>\n    <tr>\n      <th>1134.0</th>\n      <td>0.0</td>\n      <td>344.0</td>\n    </tr>\n    <tr>\n      <th>1133.7</th>\n      <td>0.0</td>\n      <td>97.0</td>\n    </tr>\n    <tr>\n      <th>1133.6</th>\n      <td>0.0</td>\n      <td>20.0</td>\n    </tr>\n    <tr>\n      <th>1133.5</th>\n      <td>0.0</td>\n      <td>27.0</td>\n    </tr>\n    <tr>\n      <th>1130.7</th>\n      <td>4.0</td>\n      <td>0.0</td>\n    </tr>\n    <tr>\n      <th>1130.6</th>\n      <td>26.0</td>\n      <td>0.0</td>\n    </tr>\n    <tr>\n      <th>1130.5</th>\n      <td>514.0</td>\n      <td>0.0</td>\n    </tr>\n    <tr>\n      <th>1130.0</th>\n      <td>60.0</td>\n      <td>0.0</td>\n    </tr>\n    <tr>\n      <th>1128.2</th>\n      <td>50.0</td>\n      <td>0.0</td>\n    </tr>\n    <tr>\n      <th>1128.1</th>\n      <td>600.0</td>\n      <td>0.0</td>\n    </tr>\n    <tr>\n      <th>1128.0</th>\n      <td>1.0</td>\n      <td>0.0</td>\n    </tr>\n    <tr>\n      <th>1126.1</th>\n      <td>65.0</td>\n      <td>0.0</td>\n    </tr>\n    <tr>\n      <th>1125.0</th>\n      <td>250.0</td>\n      <td>0.0</td>\n    </tr>\n    <tr>\n      <th>1124.7</th>\n      <td>122.0</td>\n      <td>0.0</td>\n    </tr>\n    <tr>\n      <th>1124.3</th>\n      <td>40.0</td>\n      <td>0.0</td>\n    </tr>\n    <tr>\n      <th>1124.2</th>\n      <td>10.0</td>\n      <td>0.0</td>\n    </tr>\n    <tr>\n      <th>1124.0</th>\n      <td>120.0</td>\n      <td>0.0</td>\n    </tr>\n    <tr>\n      <th>1123.8</th>\n      <td>100.0</td>\n      <td>0.0</td>\n    </tr>\n    <tr>\n      <th>1122.0</th>\n      <td>1.0</td>\n      <td>0.0</td>\n    </tr>\n    <tr>\n      <th>1121.5</th>\n      <td>2.0</td>\n      <td>0.0</td>\n    </tr>\n    <tr>\n      <th>1120.1</th>\n      <td>500.0</td>\n      <td>0.0</td>\n    </tr>\n    <tr>\n      <th>1118.0</th>\n      <td>305.0</td>\n      <td>0.0</td>\n    </tr>\n    <tr>\n      <th>1117.3</th>\n      <td>100.0</td>\n      <td>0.0</td>\n    </tr>\n    <tr>\n      <th>1117.0</th>\n      <td>3.0</td>\n      <td>0.0</td>\n    </tr>\n    <tr>\n      <th>1115.1</th>\n      <td>500.0</td>\n      <td>0.0</td>\n    </tr>\n    <tr>\n      <th>1115.0</th>\n      <td>40.0</td>\n      <td>0.0</td>\n    </tr>\n    <tr>\n      <th>1111.0</th>\n      <td>100.0</td>\n      <td>0.0</td>\n    </tr>\n    <tr>\n      <th>1110.1</th>\n      <td>500.0</td>\n      <td>0.0</td>\n    </tr>\n    <tr>\n      <th>1100.0</th>\n      <td>132.0</td>\n      <td>0.0</td>\n    </tr>\n    <tr>\n      <th>1090.3</th>\n      <td>5.0</td>\n      <td>0.0</td>\n    </tr>\n    <tr>\n      <th>1090.1</th>\n      <td>5.0</td>\n      <td>0.0</td>\n    </tr>\n    <tr>\n      <th>1090.0</th>\n      <td>301.0</td>\n      <td>0.0</td>\n    </tr>\n    <tr>\n      <th>1079.1</th>\n      <td>2.0</td>\n      <td>0.0</td>\n    </tr>\n    <tr>\n      <th>1075.9</th>\n      <td>1.0</td>\n      <td>0.0</td>\n    </tr>\n    <tr>\n      <th>1071.3</th>\n      <td>10.0</td>\n      <td>0.0</td>\n    </tr>\n    <tr>\n      <th>1064.0</th>\n      <td>55.0</td>\n      <td>0.0</td>\n    </tr>\n    <tr>\n      <th>1050.9</th>\n      <td>1.0</td>\n      <td>0.0</td>\n    </tr>\n    <tr>\n      <th>1050.2</th>\n      <td>1.0</td>\n      <td>0.0</td>\n    </tr>\n    <tr>\n      <th>1050.1</th>\n      <td>5.0</td>\n      <td>0.0</td>\n    </tr>\n    <tr>\n      <th>1049.0</th>\n      <td>10.0</td>\n      <td>0.0</td>\n    </tr>\n    <tr>\n      <th>1023.0</th>\n      <td>1.0</td>\n      <td>0.0</td>\n    </tr>\n    <tr>\n      <th>1000.0</th>\n      <td>600.0</td>\n      <td>0.0</td>\n    </tr>\n  </tbody>\n</table>\n</div>"
     },
     "execution_count": 9,
     "metadata": {},
     "output_type": "execute_result"
    }
   ],
   "source": [
    "dom, bid, ask = it4fin.get_dom_from_raw(raw)\n",
    "dom\n",
    "# dom.loc[1000.0] - получить значение по индексу"
   ],
   "metadata": {
    "collapsed": false,
    "pycharm": {
     "name": "#%%\n"
    }
   }
  },
  {
   "cell_type": "code",
   "execution_count": 11,
   "outputs": [
    {
     "data": {
      "text/plain": "(1130.7, 1133.5, 0.002473279745605472)"
     },
     "execution_count": 11,
     "metadata": {},
     "output_type": "execute_result"
    }
   ],
   "source": [
    "bid, ask, (ask - bid) * 2 / (ask + bid)"
   ],
   "metadata": {
    "collapsed": false,
    "pycharm": {
     "name": "#%%\n"
    }
   }
  },
  {
   "cell_type": "code",
   "execution_count": 8,
   "outputs": [],
   "source": [],
   "metadata": {
    "collapsed": false,
    "pycharm": {
     "name": "#%%\n"
    }
   }
  },
  {
   "cell_type": "code",
   "execution_count": null,
   "outputs": [],
   "source": [
    "security_code = 'YNDX'\n",
    "end_time = '12:00:00'\n",
    "start_time = '12:01:00' # default\n",
    "freq = 0 # default\n",
    "\n",
    "\n",
    "# обработка дефолтного случая задания функции\n",
    "if start_time == '0:00:00' and freq == 0:\n",
    "    query = query_template.format(security_code=security_code,\n",
    "                                  time1=start_time,\n",
    "                                  time2=end_time)\n",
    "else: # иначе сначала обработаем таблицу до start_time а потом начнется самое интересное\n",
    "    query = query_template.format(security_code=security_code,\n",
    "                                  time1='0:00:00',\n",
    "                                  time2=start_time)\n",
    "\n",
    "# print(query)\n",
    "\n",
    "raw = pd.read_sql_query(query, cnxn)\n",
    "raw\n"
   ],
   "metadata": {
    "collapsed": false,
    "pycharm": {
     "name": "#%%\n"
    }
   }
  },
  {
   "cell_type": "code",
   "execution_count": 67,
   "outputs": [
    {
     "data": {
      "text/plain": "(datetime.datetime(1900, 1, 1, 12, 0),\n datetime.datetime(1900, 1, 1, 12, 1, 0, 10000))"
     },
     "execution_count": 67,
     "metadata": {},
     "output_type": "execute_result"
    }
   ],
   "source": [
    "security_code = 'YNDX'\n",
    "start_time = '12:00:00' # default\n",
    "end_time = '12:01:00.01'\n",
    "freq = 1000 # default\n",
    "\n",
    "from datetime import datetime, timedelta\n",
    "\n",
    "# обработка времени формата час:минута:секунда или час:минута:секунда.миллисукенда\n",
    "if '.' in start_time:\n",
    "    stime = datetime.strptime(start_time, '%H:%M:%S.%f')\n",
    "else:\n",
    "    stime = datetime.strptime(start_time, '%H:%M:%S')\n",
    "\n",
    "#\n",
    "if '.' in end_time:\n",
    "    etime = datetime.strptime(end_time, '%H:%M:%S.%f')\n",
    "else:\n",
    "    etime = datetime.strptime(end_time, '%H:%M:%S')\n",
    "\n",
    "stime, etime"
   ],
   "metadata": {
    "collapsed": false,
    "pycharm": {
     "name": "#%%\n"
    }
   }
  },
  {
   "cell_type": "code",
   "execution_count": 68,
   "outputs": [
    {
     "name": "stdout",
     "output_type": "stream",
     "text": [
      "12:00:00.000000 12:00:01.000000\n",
      "12:00:01.000000 12:00:02.000000\n",
      "12:00:02.000000 12:00:03.000000\n",
      "12:00:03.000000 12:00:04.000000\n",
      "12:00:04.000000 12:00:05.000000\n",
      "12:00:05.000000 12:00:06.000000\n",
      "12:00:06.000000 12:00:07.000000\n",
      "12:00:07.000000 12:00:08.000000\n",
      "12:00:08.000000 12:00:09.000000\n",
      "12:00:09.000000 12:00:10.000000\n",
      "12:00:10.000000 12:00:11.000000\n",
      "12:00:11.000000 12:00:12.000000\n",
      "12:00:12.000000 12:00:13.000000\n",
      "12:00:13.000000 12:00:14.000000\n",
      "12:00:14.000000 12:00:15.000000\n",
      "12:00:15.000000 12:00:16.000000\n",
      "12:00:16.000000 12:00:17.000000\n",
      "12:00:17.000000 12:00:18.000000\n",
      "12:00:18.000000 12:00:19.000000\n",
      "12:00:19.000000 12:00:20.000000\n",
      "12:00:20.000000 12:00:21.000000\n",
      "12:00:21.000000 12:00:22.000000\n",
      "12:00:22.000000 12:00:23.000000\n",
      "12:00:23.000000 12:00:24.000000\n",
      "12:00:24.000000 12:00:25.000000\n",
      "12:00:25.000000 12:00:26.000000\n",
      "12:00:26.000000 12:00:27.000000\n",
      "12:00:27.000000 12:00:28.000000\n",
      "12:00:28.000000 12:00:29.000000\n",
      "12:00:29.000000 12:00:30.000000\n",
      "12:00:30.000000 12:00:31.000000\n",
      "12:00:31.000000 12:00:32.000000\n",
      "12:00:32.000000 12:00:33.000000\n",
      "12:00:33.000000 12:00:34.000000\n",
      "12:00:34.000000 12:00:35.000000\n",
      "12:00:35.000000 12:00:36.000000\n",
      "12:00:36.000000 12:00:37.000000\n",
      "12:00:37.000000 12:00:38.000000\n",
      "12:00:38.000000 12:00:39.000000\n",
      "12:00:39.000000 12:00:40.000000\n",
      "12:00:40.000000 12:00:41.000000\n",
      "12:00:41.000000 12:00:42.000000\n",
      "12:00:42.000000 12:00:43.000000\n",
      "12:00:43.000000 12:00:44.000000\n",
      "12:00:44.000000 12:00:45.000000\n",
      "12:00:45.000000 12:00:46.000000\n",
      "12:00:46.000000 12:00:47.000000\n",
      "12:00:47.000000 12:00:48.000000\n",
      "12:00:48.000000 12:00:49.000000\n",
      "12:00:49.000000 12:00:50.000000\n",
      "12:00:50.000000 12:00:51.000000\n",
      "12:00:51.000000 12:00:52.000000\n",
      "12:00:52.000000 12:00:53.000000\n",
      "12:00:53.000000 12:00:54.000000\n",
      "12:00:54.000000 12:00:55.000000\n",
      "12:00:55.000000 12:00:56.000000\n",
      "12:00:56.000000 12:00:57.000000\n",
      "12:00:57.000000 12:00:58.000000\n",
      "12:00:58.000000 12:00:59.000000\n",
      "12:00:59.000000 12:01:00.000000\n"
     ]
    }
   ],
   "source": [
    "# цикл с постусловием\n",
    "while True:\n",
    "    time1 = stime\n",
    "    time2 = stime + timedelta(milliseconds=freq)\n",
    "\n",
    "    print(time1.strftime('%H:%M:%S.%f'), time2.strftime('%H:%M:%S.%f'))\n",
    "\n",
    "    # постусловие\n",
    "    if time2 >= etime - timedelta(milliseconds=freq):\n",
    "        break\n",
    "\n",
    "    stime = time2\n",
    "\n"
   ],
   "metadata": {
    "collapsed": false,
    "pycharm": {
     "name": "#%%\n"
    }
   }
  },
  {
   "cell_type": "code",
   "execution_count": null,
   "outputs": [],
   "source": [],
   "metadata": {
    "collapsed": false,
    "pycharm": {
     "name": "#%%\n"
    }
   }
  }
 ],
 "metadata": {
  "kernelspec": {
   "display_name": "Python 3",
   "language": "python",
   "name": "python3"
  },
  "language_info": {
   "codemirror_mode": {
    "name": "ipython",
    "version": 2
   },
   "file_extension": ".py",
   "mimetype": "text/x-python",
   "name": "python",
   "nbconvert_exporter": "python",
   "pygments_lexer": "ipython2",
   "version": "2.7.6"
  }
 },
 "nbformat": 4,
 "nbformat_minor": 0
}